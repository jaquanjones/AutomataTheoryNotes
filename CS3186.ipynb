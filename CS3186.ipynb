{
  "nbformat": 4,
  "nbformat_minor": 0,
  "metadata": {
    "colab": {
      "name": "CS3186.ipynb",
      "provenance": [],
      "collapsed_sections": [
        "QtYhPfRAYL6C",
        "sUHZu57liKtN",
        "xTpu3CWQf_LC",
        "nAgIyfdVgvQm",
        "v3I6v_9Ho6LM",
        "Vnowe0A-qjwk",
        "zmOQl8xQvCTz",
        "mJT_rSHix9S2",
        "V1xXxmJlzv8I",
        "Ngrr19DT1uKW",
        "KhroItJh28d1",
        "smIAm0o23ToD",
        "xw4zMJZyilj6",
        "xWWUNf2fntp8",
        "e-JCX0dqqQ50",
        "HcHbNtnkuo9L",
        "NdvWzRMWrou0",
        "EFlDvkCtwxjL",
        "ahDkp3sTxjr-",
        "dXpm8y_MMzjW",
        "AwesJGdLbQTS",
        "WLPzMB9MbaPt",
        "6m47MmnLt6ql",
        "CT1PIv1sU3FA",
        "hFQ4LF9AooC1",
        "XvcORsx1q4fx",
        "MDsBYJnH1p4r",
        "5uVl5_Z8Ee6I",
        "V_dv9pJgUuVL",
        "5H7mLFG5KfeX",
        "co3Jsg0uUbKE",
        "-J2Ckf4NdN_4",
        "bwEO8TqKfKaS",
        "qnoAkZPXudqi",
        "nSdFfCfuxH5t",
        "erRKUIf3ZXBf",
        "QA78-r9rSbP2",
        "NPeFte5RUgZw",
        "3a4axL0ufXz_",
        "IAVPopnyh1lJ",
        "4al3Z7fyohEr",
        "nOUkZ4MRwIhO",
        "wWaFB0espmaZ",
        "R8GvsIAA7ysK",
        "_YZiL-8a8jvr"
      ],
      "toc_visible": true,
      "authorship_tag": "ABX9TyNj7aTiv3aVZ49lNye+pUc2",
      "include_colab_link": true
    },
    "kernelspec": {
      "name": "python3",
      "display_name": "Python 3"
    }
  },
  "cells": [
    {
      "cell_type": "markdown",
      "metadata": {
        "id": "view-in-github",
        "colab_type": "text"
      },
      "source": [
        "<a href=\"https://colab.research.google.com/github/jaquanjones/AutomataTheoryNotes/blob/main/CS3186.ipynb\" target=\"_parent\"><img src=\"https://colab.research.google.com/assets/colab-badge.svg\" alt=\"Open In Colab\"/></a>"
      ]
    },
    {
      "cell_type": "markdown",
      "metadata": {
        "id": "QtYhPfRAYL6C"
      },
      "source": [
        "# Alphabet, String, Language\n",
        "\n",
        "##Alphabet\n",
        "* denoted by $\\Sigma$\n",
        "  \n",
        "* *finite*, *nonempty* set of symbols\n",
        "\n",
        " **alphabet**: $\\Sigma = \\{a,b,c,...,z\\} $\n",
        "\n",
        " **not alphabet**: $\\Sigma = \\{a,b,c,...\\} $ $\\rightarrow$ *(not finite)* \n",
        "\n",
        "  ### By Convention:\n",
        "  $\\Sigma = \\{a,b,c,...,z\\} $\n",
        "  \n",
        "\n",
        "---\n",
        "##String\n",
        "* *finite* sequence of symbols from the alphabet\n",
        "  \n",
        " **Strings:**\n",
        "  \n",
        "  from $\\Rightarrow$ $\\Sigma = \\{a,b\\} $\n",
        "\n",
        "  we get strings:\n",
        "\n",
        "  ```\n",
        "  a\n",
        "  ab\n",
        "  abba\n",
        "  baba\n",
        "  aaabbbaabab\n",
        "  ```\n",
        "\n",
        "### By Convention:\n",
        " * we use lowercase letters near the end of the english alphabet ($u, v, w, x, y, z$) to represent strings\n",
        "\n",
        "  **$u = ab$**\n",
        "\n",
        "  **$v = bbbaaa$**\n",
        "\n",
        "  **$w = abba$**\n",
        "\n",
        "\n",
        "---\n",
        "##Language\n",
        "* set of strings\n",
        "\n",
        "---\n",
        "\n",
        "\n"
      ]
    },
    {
      "cell_type": "markdown",
      "metadata": {
        "id": "sUHZu57liKtN"
      },
      "source": [
        "# String Operations"
      ]
    },
    {
      "cell_type": "markdown",
      "metadata": {
        "id": "xTpu3CWQf_LC"
      },
      "source": [
        "##Concatenation\n",
        "  *  Concatenation of strings *u* and *v* means appending the symbols of *v* **to the right end** the symbols of *u*, denoted by *uv*\n",
        "  \n",
        "  * **Important**: *String concatenation is not commutative*\n",
        "\n",
        "  $\\Rightarrow$ $uv \\neq vu$"
      ]
    },
    {
      "cell_type": "code",
      "metadata": {
        "colab": {
          "base_uri": "https://localhost:8080/"
        },
        "id": "0H6MWl5Cfq86",
        "outputId": "80fe9f0e-1dba-437a-931c-980af76000f4"
      },
      "source": [
        "u = [1,2,3]\n",
        "v = [4,5,6]\n",
        "\n",
        "# concatenation of list\n",
        "uv = u + v\n",
        "\n",
        "print('u + v = ', uv)\n",
        "\n",
        "# concatenation of string\n",
        "string_one = \"ABC\"\n",
        "string_two = \"DEF\"\n",
        "\n",
        "string_one_plus_string_two = string_one + string_two\n",
        "\n",
        "print(f'\\nstring_one + string_two = {string_one_plus_string_two}')\n",
        "\n",
        "# not commutative example\n",
        "string_two_plus_string_one = string_two + string_one\n",
        "\n",
        "print(f'\\nstring_two + string_one = {string_two_plus_string_one}')\n"
      ],
      "execution_count": null,
      "outputs": [
        {
          "output_type": "stream",
          "text": [
            "u + v =  [1, 2, 3, 4, 5, 6]\n",
            "\n",
            "string_one + string_two = ABCDEF\n",
            "\n",
            "string_two + string_one = DEFABC\n"
          ],
          "name": "stdout"
        }
      ]
    },
    {
      "cell_type": "markdown",
      "metadata": {
        "id": "nAgIyfdVgvQm"
      },
      "source": [
        "##Reverse\n",
        "  *  The reverse of a string $w$, is denoted by $w^R$\n",
        "  * $w^R$ has the same symbols of $w$, but in reverse order"
      ]
    },
    {
      "cell_type": "code",
      "metadata": {
        "colab": {
          "base_uri": "https://localhost:8080/"
        },
        "id": "sqn2cWGMkP7L",
        "outputId": "4b5d9f46-1acd-4847-e874-25171213e423"
      },
      "source": [
        "w = \"aababb\"\n",
        "print(f'String w is: {w}')\n",
        "# reverse of string 'w'\n",
        "w_reverse = w[::-1]\n",
        "\n",
        "print(f'The reverse of string w is: {w_reverse}')\n",
        "\n",
        "z = [1,2,3,4,5]\n",
        "print(f'\\nList z is: {z}')\n",
        "\n",
        "# reverse of list 'z'\n",
        "z.reverse() # reverses original list 'z' before\n",
        "z_reverse = z\n",
        "\n",
        "print(f'The reverse of list z is: {z_reverse}')\n"
      ],
      "execution_count": null,
      "outputs": [
        {
          "output_type": "stream",
          "text": [
            "String w is: aababb\n",
            "The reverse of string w is: bbabaa\n",
            "\n",
            "List z is: [1, 2, 3, 4, 5]\n",
            "The reverse of list z is: [5, 4, 3, 2, 1]\n"
          ],
          "name": "stdout"
        }
      ]
    },
    {
      "cell_type": "markdown",
      "metadata": {
        "id": "v3I6v_9Ho6LM"
      },
      "source": [
        "##String Length\n",
        "  *  The length of a string $w$, is denoted by $|w|$\n",
        "  * $|w|$ is the number of symbols in string $w$\n",
        "  \n",
        "  if,\n",
        "\n",
        "    $w = abba$\n",
        "    \n",
        "  then,\n",
        "    \n",
        "    $|w| = 4$\n",
        "\n",
        "\n",
        "\n",
        "[length python reference](https://www.geeksforgeeks.org/python-string-length-len/)"
      ]
    },
    {
      "cell_type": "code",
      "metadata": {
        "colab": {
          "base_uri": "https://localhost:8080/"
        },
        "id": "u1MXdWmQp0-g",
        "outputId": "792d13e0-d4ff-4a1b-9feb-7f22b179f462"
      },
      "source": [
        "w = \"abcde\"\n",
        "\n",
        "# stores length of sring w\n",
        "length_of_w = len(w)\n",
        "\n",
        "print(f'String w is: {w}')\n",
        "print(f'The length of string w is: {length_of_w}')\n",
        "\n",
        "\n",
        "x = \"abc\"\n",
        "y = \"def\"\n",
        "length_of_xy = len(x) + len(y)\n",
        "\n",
        "print(f'\\nString x is: {x}\\nString y is: {y}\\nx + y = {x+y}')\n",
        "\n",
        "print(f'The length of string x + y is: {length_of_xy}')"
      ],
      "execution_count": null,
      "outputs": [
        {
          "output_type": "stream",
          "text": [
            "String w is: abcde\n",
            "The length of string w is: 5\n",
            "\n",
            "String x is: abc\n",
            "String y is: def\n",
            "x + y = abcdef\n",
            "The length of string x + y is: 6\n"
          ],
          "name": "stdout"
        }
      ]
    },
    {
      "cell_type": "markdown",
      "metadata": {
        "id": "Vnowe0A-qjwk"
      },
      "source": [
        "##Empty String \n",
        "  *  denoted by $\\lambda$\n",
        "  * $\\lambda$ is the string with no symbols\n",
        "  \n",
        "  Note:\n",
        "\n",
        "      $|\\lambda| = 0$\n",
        "\n",
        "      $\\lambda w = w \\lambda = w$ \n",
        "      \n",
        "      \n",
        "\n"
      ]
    },
    {
      "cell_type": "markdown",
      "metadata": {
        "id": "zmOQl8xQvCTz"
      },
      "source": [
        "##Substring \n",
        "  * Substring of string $\\rightarrow$ a subsequence of consecutive characters\n",
        "  \n",
        "  String $\\rightarrow$ Substring\n",
        "\n",
        "      $\\underline{aa}bbcc$ $\\rightarrow$ $aa$\n"
      ]
    },
    {
      "cell_type": "code",
      "metadata": {
        "colab": {
          "base_uri": "https://localhost:8080/"
        },
        "id": "L3DR9zsIwpkx",
        "outputId": "b279b259-6b47-4299-89ed-64891a7a53cb"
      },
      "source": [
        "w = \"abcdef\"\n",
        "\n",
        "# storing first three characters of w (indexes 0, 1, 2)\n",
        "w_begin_substring = w[:3]\n",
        "\n",
        "# storing last three characters of w (indexes 3, 4, 5)\n",
        "w_end_substring = w[3:]\n",
        "\n",
        "\n",
        "print(f'String w is: {w}')\n",
        "print(f'A substring of w is: {w_begin_substring}')\n",
        "print(f'Another substring of w is: {w_end_substring}')"
      ],
      "execution_count": null,
      "outputs": [
        {
          "output_type": "stream",
          "text": [
            "String w is: abcdef\n",
            "A substring of w is: abc\n",
            "A substring of w is: def\n"
          ],
          "name": "stdout"
        }
      ]
    },
    {
      "cell_type": "markdown",
      "metadata": {
        "id": "mJT_rSHix9S2"
      },
      "source": [
        "##Repetition Operation\n",
        "  * $w^n$ for any string $w$ and $n \\geq 0$, denotes $n$ repetitions of string $w$\n",
        "  \n",
        "  example 1:\n",
        "\n",
        "  $w = abcd$\n",
        "\n",
        "  $w^3 = abcdabcdabcd$ \n",
        "\n",
        "  example 2:\n",
        "\n",
        "  $w = abcd$\n",
        "\n",
        "  $w^0 = \\lambda$"
      ]
    },
    {
      "cell_type": "code",
      "metadata": {
        "colab": {
          "base_uri": "https://localhost:8080/"
        },
        "id": "3xhreVEjzD2P",
        "outputId": "679f9de9-2b55-4419-9849-cd4906265b18"
      },
      "source": [
        "w = \"abcd\"\n",
        "number_of_repetitions = 3\n",
        "\n",
        "# w repeated 3 times\n",
        "w_repeated = w * number_of_repetitions\n",
        "\n",
        "\n",
        "\n",
        "print(f'String w is: {w}')\n",
        "print(f'w repeated {number_of_repetitions} is: {w_repeated}')\n"
      ],
      "execution_count": null,
      "outputs": [
        {
          "output_type": "stream",
          "text": [
            "String w is: abcd\n",
            "w repeated 3 is: abcdabcdabcd\n"
          ],
          "name": "stdout"
        }
      ]
    },
    {
      "cell_type": "markdown",
      "metadata": {
        "id": "V1xXxmJlzv8I"
      },
      "source": [
        "##Star-Closure Operation\n",
        "  * denoted $\\Sigma^*$, for alphabet $\\Sigma$\n",
        "  * is the set of all strings obtained by concatenating zero or more symbols from the alphabet *(alphabet must be **finite** set)*\n",
        "  * $\\Sigma^*$ $\\leftarrow$ **infinite** set\n",
        "  \n",
        "  example 1:\n",
        "\n",
        "  $\\Sigma = \\{a,b\\}$\n",
        "\n",
        "  $\\Sigma^* = \\{ \\lambda, a, b, aa, ab, ba, bb, aaa, aab, ...\\}$\n",
        "\n"
      ]
    },
    {
      "cell_type": "code",
      "metadata": {
        "id": "ddT4BLr41rGf"
      },
      "source": [
        "# define function here for star-closure"
      ],
      "execution_count": null,
      "outputs": []
    },
    {
      "cell_type": "markdown",
      "metadata": {
        "id": "Ngrr19DT1uKW"
      },
      "source": [
        "##+ Operation\n",
        "  * denoted $\\Sigma^+$, for alphabet $\\Sigma$\n",
        "  * is the set of all possible strings from alphabet $\\Sigma$ except $\\lambda$\n",
        "  * $\\Sigma^+$ $\\leftarrow$ **infinite** set\n",
        "  \n",
        "  example 1:\n",
        "\n",
        "  $\\Sigma = \\{a,b\\}$\n",
        "\n",
        "  $\\Sigma^* = \\{ \\lambda, a, b, aa, ab, ba, bb, aaa, aab, ...\\}$\n",
        "\n",
        "  $\\Sigma^+ = \\Sigma^* - \\lambda$\n",
        "\n",
        "  $\\Rightarrow$\n",
        "\n",
        "  $\\Sigma^+ = \\{a, b, aa, ab, ba, bb, aaa, aab, ...\\}$"
      ]
    },
    {
      "cell_type": "code",
      "metadata": {
        "id": "QnZaFsCE28Bw"
      },
      "source": [
        ""
      ],
      "execution_count": null,
      "outputs": []
    },
    {
      "cell_type": "markdown",
      "metadata": {
        "id": "KhroItJh28d1"
      },
      "source": [
        "# Languages\n",
        "* Set of strings and is any subset of $\\Sigma^*$\n",
        "\n",
        "* a string from language $L$ is also referred to as a sentence\n",
        "\n",
        "  Example 1:\n",
        "\n",
        "  $\\Sigma = \\{a,b\\}$\n",
        "\n",
        "  $\\Sigma^* = \\{ \\lambda, a, b, aa, ab, ba, bb, aaa, aab, ...\\}$\n",
        "\n",
        "  Languages:\n",
        "\n",
        "  $\\{ \\lambda \\}$\n",
        "\n",
        "  $\\{ a, aa, aaab \\}$\n",
        "\n",
        "  $\\{ \\lambda, abba, baba, aa, ab, aaaaaa \\}$\n",
        "  \n",
        "\n"
      ]
    },
    {
      "cell_type": "markdown",
      "metadata": {
        "id": "smIAm0o23ToD"
      },
      "source": [
        "##Notes - Determing sizes of a set vs. length of string\n",
        "\n",
        "###Sets \n",
        "###$\\rightarrow \\emptyset=\\{\\}\\neq \\{ \\lambda \\}$ \n",
        ">$\\Rightarrow$ *(empty set, $\\emptyset$, equals a literal empty set BUT a set consisting of only an **empty string**, $\\lambda$, is not an empty set)*\n",
        "\n",
        "---\n",
        "\n",
        "###Set Size \n",
        "###$\\rightarrow |\\emptyset|=|\\{\\}|= 0$ \n",
        ">$\\Rightarrow$ *(the size of a literal empty set is equal to the size of empty set, $\\emptyset$, which equals $0$)*\n",
        "\n",
        "### $\\rightarrow |\\{ \\lambda \\}| = 1$ \n",
        ">$\\Rightarrow$ *(the size of the set containing only an **empty string**, $\\lambda$, is equal to the 1)*\n",
        "\n",
        "---\n",
        "\n",
        "###String Length \n",
        "###$\\rightarrow |\\lambda| = 0$ \n",
        ">$\\Rightarrow$ *(the **length** of the **empty string**, $\\lambda$, is equal to the 0)*"
      ]
    },
    {
      "cell_type": "code",
      "metadata": {
        "colab": {
          "base_uri": "https://localhost:8080/"
        },
        "id": "Nd4GrAKCg0Bi",
        "outputId": "d913d28d-2a11-4d08-b27b-b51c68e7d9c6"
      },
      "source": [
        "# saved as list for indexing\n",
        "empty_set = []\n",
        "set_with_empty_string = [\"\",]\n",
        "\n",
        "size_of_empty_set = len(empty_set)\n",
        "size_of_set_with_empty_string = len(set_with_empty_string)\n",
        "size_of_string = len(set_with_empty_string[0])\n",
        "\n",
        "print(f'Size of empty set is: {size_of_empty_set}')\n",
        "print(f'Size of set with empty string is: {size_of_set_with_empty_string}')\n",
        "print(f'Size of empty string is: {size_of_string}')\n"
      ],
      "execution_count": null,
      "outputs": [
        {
          "output_type": "stream",
          "text": [
            "Size of empty set is: 0\n",
            "Size of set with empty string is: 1\n",
            "Size of empty string is: 0\n"
          ],
          "name": "stdout"
        }
      ]
    },
    {
      "cell_type": "markdown",
      "metadata": {
        "id": "xw4zMJZyilj6"
      },
      "source": [
        "##Operations on Languages\n",
        "\n",
        "* Includes usual [set operations](https://www.w3schools.com/python/python_ref_set.asp):\n",
        "\n",
        "  * [union](https://www.w3schools.com/python/ref_set_union.asp), $\\cup$\n",
        "    \n",
        "  * [intersection](https://www.w3schools.com/python/ref_set_intersection.asp), $\\cap$\n",
        "    \n",
        "  * [difference](https://www.w3schools.com/python/ref_set_difference.asp), $-$\n",
        "* Complement:\n",
        "\n",
        "    $\\overline{L} = \\Sigma^* - L$\n",
        "  "
      ]
    },
    {
      "cell_type": "code",
      "metadata": {
        "colab": {
          "base_uri": "https://localhost:8080/"
        },
        "id": "A9qWWuPRk5fB",
        "outputId": "69e770d2-4e45-47ea-cf07-222dccc63cfd"
      },
      "source": [
        "set_one = {\"a\", \"ab\", \"aaaa\"}\n",
        "set_two = {\"bb\", \"ab\"}\n",
        "\n",
        "set_union = set_one.union(set_two)\n",
        "set_intersection = set_one.intersection(set_two)\n",
        "set_difference = set_one.difference(set_two)\n",
        "\n",
        "print(f'Set one includes:\\n {set_one}')\n",
        "print(f'Set two includes:\\n {set_two}\\n')\n",
        "\n",
        "print(f'The union of set one & two is:\\n {set_union}')\n",
        "print(f'The intersection of set one & two is:\\n {set_intersection}')\n",
        "print(f'The difference of set one & two is:\\n {set_difference}')\n"
      ],
      "execution_count": null,
      "outputs": [
        {
          "output_type": "stream",
          "text": [
            "Set one includes:\n",
            " {'ab', 'a', 'aaaa'}\n",
            "Set two includes:\n",
            " {'ab', 'bb'}\n",
            "\n",
            "The union of set one & two is:\n",
            " {'a', 'ab', 'aaaa', 'bb'}\n",
            "The intersection of set one & two is:\n",
            " {'ab'}\n",
            "The difference of set one & two is:\n",
            " {'a', 'aaaa'}\n"
          ],
          "name": "stdout"
        }
      ]
    },
    {
      "cell_type": "markdown",
      "metadata": {
        "id": "xWWUNf2fntp8"
      },
      "source": [
        "###Reverse (Languages)\n",
        "* denoted $L^R$\n",
        "\n",
        "  $L^R = \\{w^R | w \\in L\\}$\n",
        "\n",
        ">Example:\n",
        ">>$L = \\{a^nb^n | n \\geq0\\}$\n",
        ">>$L^R = \\{b^na^n | n \\geq0\\}$"
      ]
    },
    {
      "cell_type": "code",
      "metadata": {
        "colab": {
          "base_uri": "https://localhost:8080/"
        },
        "id": "Ihfp8QBWqQez",
        "outputId": "788c4542-922a-45e7-bc56-184bb485bfda"
      },
      "source": [
        "# saved as list for reversal purposes\n",
        "set_one = [\"ab\", \"aab\", \"baba\"]\n",
        "\n",
        "set_one_reversed =[]\n",
        "for item in set_one:\n",
        "    set_one_reversed.append(item[::-1])\n",
        "\n",
        "print(f'Set one includes:\\n {set_one}\\n')\n",
        "\n",
        "print(f'The Reverse of set one & two is:\\n {set_one_reversed}')\n",
        "\n"
      ],
      "execution_count": null,
      "outputs": [
        {
          "output_type": "stream",
          "text": [
            "Set one includes:\n",
            " ['ab', 'aab', 'baba']\n",
            "\n",
            "The Reverse of set one & two is:\n",
            " ['ba', 'baa', 'abab']\n"
          ],
          "name": "stdout"
        }
      ]
    },
    {
      "cell_type": "markdown",
      "metadata": {
        "id": "e-JCX0dqqQ50"
      },
      "source": [
        "###Concatenation (Languages)\n",
        "*  $L_1L_2 = \\{xy | x \\in L_1, y \\in L_2\\}$\n",
        "\n",
        " *(similar to cross product)*\n",
        "\n",
        ">Example:\n",
        ">>$\\{a, ab, ba\\}\\{b,aa\\}$\n",
        "\n",
        ">>=$\\{ab, aaa, abb, abaa, bab, baaa\\}$"
      ]
    },
    {
      "cell_type": "code",
      "metadata": {
        "colab": {
          "base_uri": "https://localhost:8080/"
        },
        "id": "BQu2vlU9sHqZ",
        "outputId": "843bc912-bd91-4e5f-deb1-e4676c30fd75"
      },
      "source": [
        "# saved as list for concatenation purposes\n",
        "set_one = [\"a\", \"ab\", \"ba\"]\n",
        "set_two = [\"b\", \"aa\"]\n",
        "\n",
        "concat_set =[]\n",
        "for x in set_one:\n",
        "  for y in set_two:\n",
        "    concat_set.append(x+y)\n",
        "\n",
        "print(f'Set one includes:\\n {set_one}')\n",
        "print(f'Set two includes:\\n {set_two}\\n')\n",
        "\n",
        "print(f'The concatenation of set one & two is:\\n {concat_set}')\n"
      ],
      "execution_count": null,
      "outputs": [
        {
          "output_type": "stream",
          "text": [
            "Set one includes:\n",
            " ['a', 'ab', 'ba']\n",
            "Set two includes:\n",
            " ['b', 'aa']\n",
            "\n",
            "The concatenation of set one & two is:\n",
            " ['ab', 'aaa', 'abb', 'abaa', 'bab', 'baaa']\n"
          ],
          "name": "stdout"
        }
      ]
    },
    {
      "cell_type": "markdown",
      "metadata": {
        "id": "HcHbNtnkuo9L"
      },
      "source": [
        "##Repetition Operation (Languages)\n",
        "* $L^n = LL...L$ *(n times)*\n",
        "\n",
        "  $\\{a,b\\}^3$\n",
        "\n",
        "  $= \\{a,b\\}\\{a,b\\}\\{a,b\\}$\n",
        "\n",
        "  $=\\{aaa,aab,aba,abb,baa,bab,bba,bbb\\}$\n",
        "\n",
        "---\n",
        "\n",
        "* Special Case:\n",
        "\n",
        "$L^0 = \\{\\lambda\\}$\n",
        "\n",
        "$\\Rightarrow\\{a,bba,aaa\\}^0=\\{\\lambda\\}$"
      ]
    },
    {
      "cell_type": "code",
      "metadata": {
        "colab": {
          "base_uri": "https://localhost:8080/"
        },
        "id": "5iQyyM74yTW-",
        "outputId": "9d39dbac-d7d1-4648-f8dd-426e06fbc81e"
      },
      "source": [
        "# saved as list for concatenation purposes\n",
        "set_one = [\"a\", \"b\"]\n",
        "set_one_repetition  = [set_one] * 3\n",
        "new_set_one = []\n",
        "\n",
        "#unfinished\n",
        "\n",
        "\n",
        "print(f'Set one includes:\\n {set_one}')\n",
        "\n",
        "print(f'\\nSet one repeated three times:\\n {set_one_repetition}')"
      ],
      "execution_count": null,
      "outputs": [
        {
          "output_type": "stream",
          "text": [
            "Set one includes:\n",
            " ['a', 'b']\n",
            "\n",
            "Set one repeated three times:\n",
            " [['a', 'b'], ['a', 'b'], ['a', 'b']]\n"
          ],
          "name": "stdout"
        }
      ]
    },
    {
      "cell_type": "markdown",
      "metadata": {
        "id": "NdvWzRMWrou0"
      },
      "source": [
        "##Star-Closure (Kleene *)\n",
        "* $L^* = L^0 \\cup L^1 \\cup L^2 \\cdots$ \n",
        "\n",
        ">Example:</br></br>\n",
        ">$\\{a,bb\\}^*= $\n",
        "\n",
        "\n",
        "---\n"
      ]
    },
    {
      "cell_type": "code",
      "metadata": {
        "id": "4jAtPF66xcFP"
      },
      "source": [
        "# insert star closure code here"
      ],
      "execution_count": null,
      "outputs": []
    },
    {
      "cell_type": "markdown",
      "metadata": {
        "id": "EFlDvkCtwxjL"
      },
      "source": [
        "##Positive Closure \n",
        "* $L^+ = L^1 \\cup L^2 \\cdots$ \n",
        "  </br>$= L^* - \\{ \\lambda \\}$\n",
        "\n",
        ">Example:</br></br>\n",
        ">"
      ]
    },
    {
      "cell_type": "code",
      "metadata": {
        "id": "4RQX5_3TxhyT"
      },
      "source": [
        "# insert star closure code here"
      ],
      "execution_count": null,
      "outputs": []
    },
    {
      "cell_type": "markdown",
      "metadata": {
        "id": "ahDkp3sTxjr-"
      },
      "source": [
        "# **Grammars**\n",
        "* Grammars express languages\n",
        "\n",
        "* *Grammar* $G$ is defined by a quadruple</br>\n",
        "  $G = (V, T, S, P)$</br>\n",
        "  * **V**: Set of variables *(also referred to as non-terminals)*\n",
        "  * **T**: Set of terminal symbols\n",
        "  * **S**: Start variable\n",
        "  * **P**: Set of Production rules\n",
        "---\n",
        "## Notations for Productions\n",
        "* Have form $x \\rightarrow y$ where:</br>\n",
        "  $x \\in (v \\cup T)^+ \\Rightarrow$ *$x$ is some non-null string of terminals and variables*</br>\n",
        "  $y \\in (v \\cup T)^* \\Rightarrow$ *$y$ is some **possibly** null string of terminals and variables*</br></br> \n",
        "\n",
        "---\n",
        "###Example 1\n",
        "*Grammar* $G$</br></br>\n",
        "$G = (V, T, S, P)$, where</br>\n",
        ">$V=\\{S\\}$</br>\n",
        "$T=\\{a,b\\}$</br>\n",
        "$P=\\{S \\rightarrow aSb, S \\rightarrow \\lambda\\} \\Leftrightarrow$ \n",
        "$\\{S \\rightarrow aSb | \\lambda\\}$</br>\n",
        "\n",
        "\n",
        "###Example 2\n",
        "*Grammar* $G$</br></br>\n",
        "$G: (\\{S,Q\\}, \\{a.b.c\\}, S, P)$, where</br>\n",
        ">$S \\rightarrow abc | aSQ$</br>\n",
        "$bQc \\rightarrow bbcc$</br>\n",
        "$cQ \\rightarrow cc$</br>\n",
        "$Cc \\rightarrow Qc$</br>\n",
        "\n",
        "---\n",
        "## Production Rules\n",
        "* specify how one string derives another string</br></br>\n",
        "Given: $w=uxv$</br>\n",
        "\n",
        ">$\\Rightarrow x \\rightarrow y$ *(is applicable to string $w$)*</br>\n",
        "$\\Rightarrow z = uyv$ *(use production, substitute $y$ for $x$)*</br><br>\n",
        "*(we say **$w$ derives $z$**)* $\\Leftrightarrow w \\Rightarrow z$ </br>\n",
        "\n",
        "*Then continue applying any applicable productions in arbitrary order.*</br>\n",
        ">$W_1 \\Rightarrow W_2 \\Rightarrow W_3 \\Rightarrow \\cdots \\Rightarrow W_n$\n",
        "\n",
        "---\n",
        "###Linz Definition (Derives)\n",
        "$W_1^* \\Rightarrow W_n \\Leftrightarrow$ *(means $W_1$ derives $W_n$ in zero or more productions steps)*</br>\n",
        "\n",
        "---\n",
        "###Derivation of a sentence\n",
        "Consider:\n",
        ">$G = (\\{S\\},\\{a.b\\}, S, P\\}$</br>\n",
        "\n",
        "where $P$ is the set of productions:</br>\n",
        ">$S \\rightarrow aSb$</br>\n",
        "$S \\rightarrow \\lambda$</br>\n",
        "\n",
        "**Derivation of sentence $ab$**</br>\n",
        ">$S \\Rightarrow aSb \\Rightarrow ab$</br>\n",
        ">>$S \\rightarrow aSb$</br>$S \\rightarrow \\lambda$\n",
        "\n",
        "**Derivation of sentence $aabb$**</br>\n",
        ">$S \\Rightarrow aSb \\Rightarrow aaSbb \\Rightarrow aabb$</br>\n",
        ">>$S \\rightarrow aSb$</br>$S \\rightarrow \\lambda$\n",
        "\n",
        "**Derivation of sentence $aaaabbbb$**</br>\n",
        ">$S \\Rightarrow aSb \\Rightarrow aaSbb \\Rightarrow aabb \\Rightarrow aaaSbbb \\Rightarrow aaaaSbbbb \\Rightarrow aaaabbbb$</br>\n",
        ">>$S \\rightarrow aSb$</br>$S \\rightarrow \\lambda$\n",
        "\n",
        "---\n",
        "###Sentential Form\n",
        "* contains variables and terminals</br>\n",
        "  *i.e.*</br> $aSb$</br> **or**</br> $aaSbb$</br> **or**</br> $aaaaSbbbb$</br>\n",
        "   *(notice '**S**' $\\nwarrow$ included in form $\\Rightarrow$ while '$aaaabbbb$' is **sentence**)*\n",
        "\n",
        "---\n",
        "###Alternate Notation\n",
        "*Can write:*</br>\n",
        ">$S \\Rightarrow^* aaabbb$</br>\n",
        "\n",
        "*Instead of:*</br>\n",
        ">$S \\Rightarrow aSb \\Rightarrow aaSbb \\Rightarrow aabb \\Rightarrow aaaSbbb \\Rightarrow aaabbb$\n",
        "\n",
        "\n",
        "\n"
      ]
    },
    {
      "cell_type": "code",
      "metadata": {
        "id": "4toSgP4lM1rp"
      },
      "source": [
        "#derivation of sentence code"
      ],
      "execution_count": null,
      "outputs": []
    },
    {
      "cell_type": "markdown",
      "metadata": {
        "id": "dXpm8y_MMzjW"
      },
      "source": [
        "##Language of a Grammar\n",
        "For a grammar $G$</br>\n",
        "with start variable $S$</br>\n",
        ">$L(G) = \\{w | S \\Rightarrow^* w\\}$</br> *(where $w$ is a **String of terminals**)*\n",
        "\n",
        "**Linz Definition (Language Generated):**</br>\n",
        ">*Let:* </br>$G=(V,T,S,P)$</br>*be a grammar.*</br></br>\n",
        "$L(G) = \\{w|S \\Rightarrow^* w\\}$</br>*is the language genrate by $G$*</br>\n",
        "\n",
        "$L(G)$ is the **set of all strings**, $w$, that can be generated from the the **start symbol** , $S$, using the **productions**, $P$\n",
        "\n",
        "---\n",
        "###Grammar Example\n",
        "*Grammar* $G$\n",
        ">*(**S** derives **Ab**)*</br>**1)** $S \\rightarrow Ab$</br></br>\n",
        "*(**A** derives **aAb**)*</br>**2)** $Ab \\rightarrow aAb$</br></br>\n",
        "*(**A** also derives**$\\lambda$**)*</br>**3)** $A \\rightarrow \\lambda$</br></br>\n",
        "\n",
        "*Derivations:*</br>\n",
        ">$S \\Rightarrow Ab \\Rightarrow b$ </br>*(1 $\\rightarrow$ 3)*</br></br>\n",
        "$S \\Rightarrow Ab \\Rightarrow aAbb \\Rightarrow abb$ </br>*(1 $\\rightarrow$ 2 $\\rightarrow$ 3)*</br></br>\n",
        "$S \\Rightarrow Ab \\Rightarrow aAbb \\Rightarrow aaAbbb \\Rightarrow aabbb$ </br>\n",
        "*(1 $\\rightarrow$ 2 $\\rightarrow$ 2 $\\rightarrow$ 3)*</br></br>\n",
        "$S \\Rightarrow^* a^nb^nb$</br>\n",
        "*(1 $\\rightarrow$ 2 (**n**-times) $\\rightarrow$ 3)*</br>\n",
        "\n",
        "---\n",
        "###Notation for alternate productions\n",
        "* Notation '$|$' indicates alternate productions\n",
        ">*Using:*</br>\n",
        "$A \\rightarrow aAb | \\lambda$</br></br>*Shorthand for:*</br>\n",
        "$A \\rightarrow aAb$</br>\n",
        "$A \\rightarrow \\lambda$</br>\n",
        "\n"
      ]
    },
    {
      "cell_type": "code",
      "metadata": {
        "id": "nFkLo87SbLFa"
      },
      "source": [
        "# Language of Grammar program"
      ],
      "execution_count": null,
      "outputs": []
    },
    {
      "cell_type": "markdown",
      "metadata": {
        "id": "AwesJGdLbQTS"
      },
      "source": [
        "#Automata\n",
        "Abstract model of a computer\n",
        "  * *Control unit* also goes to storage if available\n",
        "\n",
        ">*Input (String)* $\\rightarrow$ *Control Unit* $\\rightarrow$ *Output (String)*\n",
        "\n",
        "Automata categorized based on output:\n",
        "* **Acceptor** $\\rightarrow$ has **only yes/no** output\n",
        ">*Input (String)* $\\rightarrow$ *Control Unit* $\\rightarrow$ *Output (\"Accept\" or \"Reject\")*\n",
        "\n",
        "* **transducer** $\\rightarrow$ has **strings or symbols** for output\n",
        "\n",
        "---\n",
        "##Control Unit (State Machine)\n",
        "* **State machine model** is a mathematical model that **groups all possible system occurences**, called *states*\n",
        "* At any given time, the **control unit** is in a particular state\n",
        "  * the current state is referred to as the **Configuration** of the control unit\n",
        "* Each ***state* specifies which *state* to switch to**, for a given input\n",
        "\n",
        "---\n",
        "##Automata as Acceptor\n",
        "**Abstract model:**\n",
        "1. **reads input** from an input file \n",
        "  * one symbol from each cell \n",
        "  * left to right\n",
        "2. **produces output** *(yes/no)*\n",
        "3. **may use storage**\n",
        "  * unlimited number of cells (may be different alphabet)\n",
        "4. has a **control unit defined by a state machine**\n",
        "  * When input read, switches to a different *state* defined by the algorithm\n",
        "\n",
        "---\n",
        "##Deterministic vs Nondeterministic Automata\n",
        "* **Deterministic Automata:** From any state, on the current input, the contents of temporary storage *(current configuration)*, the next state *(next configuration)* is **uniquely defined by one state**</br>\n",
        "\n",
        "* **Nondeterministic Automata:** From any state, on the current input, the contents of temporary storage *(current configuration)*, the **next configuration may have several possibilities**\n",
        "  * **There are several choices for the next state**"
      ]
    },
    {
      "cell_type": "markdown",
      "metadata": {
        "id": "WLPzMB9MbaPt"
      },
      "source": [
        "#1.2 Summary\n",
        "* **Language:** Set of strings\n",
        "* **Grammar:** Rules for defining which *strings* over an *alphabet* are in a particular *language*\n",
        "* **Automaton (automata):** A mathematical model of a computer which can determine whether a particular string is accepted\n",
        "\n",
        "* A language describes all strings derived by (the production rules of) the grammar and is accepted by the automata (w/ or w/o storage)\n",
        "\n",
        "* Classification of languages *(type of strings)*, grammars *(complexity of the production rules)*, automata *(type of storage)*"
      ]
    },
    {
      "cell_type": "markdown",
      "metadata": {
        "id": "6m47MmnLt6ql"
      },
      "source": [
        "#Finite Automata - Section 2.\n",
        "##Automata - Basic Classification\n",
        "* Automata as an **acceptor**\n",
        "* Automata Control Unit is a **state machine**\n",
        "  * defined by a **finite** number of states\n",
        "* Storage: **No temporary storage**\n",
        "* **Finite Acceptor**\n",
        "  * an acceptor with finite number of states and no external storage\n",
        "\n",
        "##Deterministic Finite Acceptor (DFA)\n",
        "* Deterministic: From any state, on the current input, the contents of temporary storage (current configuration), the next state (next configuration) is **uniquely defined by one state**\n",
        "\n",
        "**DFA:**\n",
        "* **finite number of states**\n",
        "* **no external storage**\n",
        "* **Deterministic configurations**\n",
        "\n",
        "##Formalities\n",
        "* Deterministic Finite Accepter (DFA)\n",
        "> ### $M = (Q, \\Sigma, \\delta, q_0, F)$\n",
        ">>  $Q:$ **set of final states**</br>$q_0:$ **initial state** $ \\Rightarrow q_o \\in Q$</br>$\\delta:$ **transition function**</br>$\\Sigma:$ **input alphabet**</br>$F:$ **set of states** $\\Rightarrow F \\subseteq Q$\n",
        "---\n",
        "**Example:**\n",
        ">$\\Sigma = \\{a,b\\}$</br>\n",
        "$Q= \\{q_o,q_1,q_2,q_3,q_4,q_5\\}$</br></br>\n",
        "**Initial state** $= q_0$</br>\n",
        "**Final state** $= \\{q_4\\}$\n",
        ">> ### $\\delta: Q \\times \\Sigma \\rightarrow Q$\n",
        "\n",
        ">*Transition function defines the next state of the control unit*\n",
        "</br></br>\n",
        "**For example:**\n",
        ">>$\\delta (q_0, a)=q_1$\n",
        "</br>\n",
        "$\\delta (q_0, b)=q_5$\n",
        "\n",
        "---\n",
        "##DFA\n",
        "* **Deterministic** automaton:\n",
        "  * **Each move is uniquely determing by the current configuration**\n",
        "  * Knowing the internal state, the input, we can predict the future behavior of the automaton exactly\n",
        "  >For example:</br></br>**from state** $q_o$ **on input** $b$, **the next state** is $q_5$</br>$\\Rightarrow \\delta (q_0, b) = q_5$\n",
        "\n",
        "* **Nondeterministic** automaton:\n",
        "  * **May have several possible moves**, so we can have a set of possible actions\n",
        "  >For example:</br></br>**from state** $q_o$ **on input** $b$, **the next state can be** $q_5$</br>$\\Rightarrow \\delta (q_0, b) = \\{q_4,q_5\\}$\n",
        "\n",
        "---\n",
        "##Transition Function Representation (Transition Graph)\n",
        "Transition Graphs constructed as follows:\n",
        "* **Vertices represent states**\n",
        "* **Directed edges represent transitions**\n",
        "  * Label of edge is **current input symbol**\n",
        "  * Directed edge ($q.r$) with label a **if and only if** $\\delta(q,a)=r$\n",
        "\n",
        "</br>*See illustration in notes*\n",
        "\n",
        "---\n",
        "##Finite Acceptor\n",
        "* Deterministic Finite Accepter (DFA) Operation\n",
        "</br></br>\n",
        "* Start with the initial State\n",
        "  * While input exists,</br>**CurrentState** $= \\delta($**CurrentState, CurrentInput**$)$\n",
        "  </br></br>\n",
        "  If **CurrentState** $\\in F$ then **Accept** else **Reject**\n",
        "\n",
        "---\n",
        "##Transition Function $\\delta$\n",
        "* can be represented as a **Transition Table** or as **Transition Graph**\n",
        "\n",
        "</br>*See illustration in notes, pg. 10, 12-25*\n",
        "\n",
        "---\n",
        "##Extended Transition Function\n",
        "* The Extended Transition Function, $\\delta^*$, **gives the state of the automaton after reading a string**\n",
        "> ### $\\delta^* : Q \\times \\Sigma^* \\rightarrow Q$\n",
        "\n",
        "</br>*See illustration in notes pg. 26-29*\n",
        "\n",
        "---\n",
        "## Observation - Walk\n",
        "* Example Observation: \" *There is a walk from* $q$ *to* $q^{'}$\"\n",
        "</br>\n",
        "$\\Rightarrow \\delta^{*}(q,w)=q^{'}$\n",
        "\n",
        "</br>*See illustration in notes, pg. 30-31*\n",
        "\n",
        "## Recursive Definition\n",
        "> ### $\\delta^*(q, \\lambda ) = q$</br>$\\delta^*(q, w \\sigma ) = \\delta (\\delta^*(q,w), \\sigma )$\n",
        "\n",
        "**Example:**\n",
        "> ### $\\delta^*(q_0,ab)=$</br>$\\delta(\\delta^*(q_0,a),b)=$</br>$\\delta(\\delta(\\delta^*(q_0,\\lambda),a),b)=$</br>$\\delta(\\delta(q_0,a),b)=$</br>$\\delta(q_1,b)=$</br>$q_2$\n",
        "\n",
        "</br>*See illustration in notes, pg. 33*\n",
        "\n",
        "---\n",
        "## Languages Accepted by DFAs\n",
        "Given **DFA** $M$:</br>\n",
        "> The language $L(M)$ contains all input strings accepted by\n",
        ">> $L(M) = \\{$ **strings that drive M to a final state** $\\}$\n",
        "\n",
        "</br>*See illustration in notes, pg. 35*\n",
        "\n",
        "---\n",
        "##Formal definition of L(M)\n",
        "### For a DFA $M = (Q, \\Sigma, \\delta, q_0, F)$\n",
        "> ### Language **accepted** by $M$:</br>$L(M) = \\{ w \\in \\Sigma^* | \\delta^*(q_o,w) \\in F\\}$</br></br>Language **rejected** by $M$:</br>$\\overline{L(M)} = \\{ w \\in \\Sigma^* | \\delta^*(q_o,w) \\notin F\\}$\n",
        "\n",
        "---\n",
        "## Constructing a DFA\n",
        "Given a description of the language in words:\n",
        "1. We have to employ *reasoning* or *logic* similar to solving a programming problem in Java\n",
        "2. The logic will be slightly tedious as we have to think in terms of the capability of the DFA\n",
        "3. Start with the initial state \n",
        "4. Each state has some meaning to it. i.e., we are *remembering* some information in this state\n",
        "5. Construct all other possible states for all possible inputs with an eye on accepting strings in the given language\n",
        "6. Define state transitions based on intuitive logic. Determine the final states that accepts the language\n",
        "7. Give a complete description of:</br>$M = (Q, \\Sigma, \\delta, q_0, F)$\n",
        "\n",
        "</br>*See illustrations/examples in notes pg. 40-50*\n",
        "\n",
        "---\n",
        "\n"
      ]
    },
    {
      "cell_type": "code",
      "metadata": {
        "id": "epPaq02hRTx4"
      },
      "source": [
        "from automata.fa.dfa import DFA\n",
        "\n",
        "# DFA which matches all binary strings ending in an odd number of '1's\n",
        "dfa_one = DFA(\n",
        "    states={'q0', 'q1', 'q2'},\n",
        "    input_symbols={'0', '1'},\n",
        "    transitions={\n",
        "        'q0': {'0': 'q0', '1': 'q1'},\n",
        "        'q1': {'0': 'q0', '1': 'q2'},\n",
        "        'q2': {'0': 'q2', '1': 'q1'}\n",
        "    },\n",
        "    initial_state='q0',\n",
        "    final_states={'q1'}\n",
        ")\n"
      ],
      "execution_count": null,
      "outputs": []
    },
    {
      "cell_type": "markdown",
      "metadata": {
        "id": "CT1PIv1sU3FA"
      },
      "source": [
        "##Classification or Hierarchy or Family\n",
        "* Languages can be classified based on certain properties of *Grammar* or *Automata*\n",
        "* All the languages which are accepted by some finite automaton are classified as a *family* of languages. These are referred to as **Regular** languages.\n",
        "\n",
        "---\n",
        "##Regular Languages\n",
        "* A langugage is regular if there is a DFA such that:</br>$L=L(M)$\n",
        "* To refer to a given language as regular, one needs to describe a *FSA*, $M$ that accepts precisely that language\n",
        "\n",
        "---\n",
        "###Examples of regular languages\n",
        "$\\{abba\\}$</br>\n",
        "$\\{\\lambda, ab, abba\\}$</br>\n",
        "$\\{a^nb | n \\geq 0\\}$</br>\n",
        "{**all strings with prefix** $ab$}</br>\n",
        "{**all strings that contain** $ab$}</br>\n",
        "{**all strings without substring** $001$}</br></br>\n",
        "\n",
        "---\n",
        "### Another example\n",
        "\n",
        "The language $ L = \\{ awa|w \\in \\{a,b\\}^*\\}$</br> $\\Rightarrow$ **is regular:** all strings that begin and end with an \"*a*\"\n",
        "\n",
        "---\n",
        "### Non-Regular Languages\n",
        "* $\\exists$ languages which are **not** Regular"
      ]
    },
    {
      "cell_type": "markdown",
      "metadata": {
        "id": "hFQ4LF9AooC1"
      },
      "source": [
        "# Non-deterministic Finite Accpetors (NFA) - 2.2\n",
        "\n",
        "###$M = (Q,\\Sigma, \\delta, q_0, F)$\n",
        ">$Q$: Set of states</br>\n",
        "$\\Sigma$: Input alphabet</br>\n",
        "$\\delta$: Transition function</br>\n",
        "$q_0$ : Initial state</br>\n",
        "$F$: Final state</br>\n",
        "\n",
        "Where $Q, \\Sigma, q_0,$ and $F$ are defined as for deterministic finite accepters, but\n",
        ">$\\delta : Q \\times (\\Sigma$ $\\cup$ $\\lambda) \\rightarrow 2^Q$\n",
        "\n",
        "$2^Q$ is referred to as the power set of Q and is defined as the set of all subsets of Q including the empty set and Q itself.\n",
        ">i.e.</br>$Q = \\{q_0, q_1\\}$</br></br>$\\Rightarrow$ *power set of Q is:*</br>\n",
        "$\\{\\}, \\{q_0\\}, \\{q_1\\}, \\{q_0, q_1\\}$\n",
        "\n",
        "</br>\n",
        "\n",
        "---\n",
        "###NFA Important Notes\n",
        "* NFA permits **several possible \"next states\" specified in one of the subsets of the power set**\n",
        "  * for a given combination of current state and input symbol, **the next state is not uniquely defined** as in a *DFA*\n",
        "* The automaton, as it reads the input string, may choose at each step to go into any one of these legal next states\n",
        "  * the choice is not determined by anything in our model, and is therefore said to be *non-deterministic*\n",
        "\n",
        "\n",
        "</br>*See illustration in notes 5-12*\n",
        "\n",
        "---\n",
        "###NFA Acceptance\n",
        "* **An NFA accepts a string**\n",
        "  * when there is a computation (on any one of the choices) of the NFA that accepts the string</br>**AND**\n",
        "  * all the input is consumed and the automaton is in a final state\n",
        "\n",
        "\n",
        "</br>*See illustration in notes 14-15*\n",
        "\n",
        "---\n",
        "###NFA Rejection\n",
        "* **An NFA rejects a string**\n",
        "  * when there is no computation of the NFA that accepts the string\n",
        "  * **All the input is consumed and the automaton is in a non-final state**</br>**OR**\n",
        "  * The input cannot be consumed\n",
        "\n",
        "</br>*See illustration in notes 17*\n",
        "\n",
        "---\n",
        "###Lambda ($\\lambda$) Transitions in NFA\n",
        "* NFA allows $\\lambda$ transitions\n",
        "* Transition takes place without consuming an empty string\n",
        "* *Note $\\lambda$ does not occur on the input*\n",
        "\n",
        "</br>*See illustration in notes 18-43*\n",
        "\n",
        "---\n",
        "###NFA Remarks\n",
        "* $\\lambda$ symbol never appears on the input tape\n",
        "* Simple automata\n",
        ">$M_1$</br>\n",
        "$\\longrightarrow \\bigcirc_{q_0}$</br>\n",
        "$L(M_1) = \\{\\}$\n",
        "\n",
        "  >$M_2$</br>\n",
        "$\\longrightarrow \\bigtriangleup{q_0}$</br>\n",
        "$L(M_2) = \\{\\lambda\\}$</br></br>\n",
        " *(using $\\bigtriangleup$ as **final state**, instead of double circle)*\n",
        "\n",
        "* Key differences between *DFAs* and *NFAs*:\n",
        "  1. *DFA*: $\\delta$ **yields a single state**</br>\n",
        "      *NFA*: $\\delta$ **yields a set of states**</br></br>\n",
        "  2. *DFA*: **consumes input on each move**</br>\n",
        "      *NFA*: **can move without input on $\\lambda$**</br></br>\n",
        "  3. *DFA*: **moves for all inputs in all states**</br>\n",
        "      *NFA*: **some situations have no defined moves**</br></br>\n",
        "\n",
        "* *NFAs* can express languages easier than *DFA*s\n",
        "\n",
        "---\n",
        "###Extended Transition Function $\\delta^*$\n",
        "* As with *DFAs*, the transition function can be extended so its second argument is a string\n",
        ">For example:</br>$ \\delta^*(q_0,a)= \\{q_1\\}$\n",
        "\n",
        "</br>*See illustration in notes 47*\n",
        "\n",
        "---\n",
        "* Formally,</br> \n",
        ">$q_j \\in \\delta^*(q_i,w)$\n",
        "\n",
        "  * There exists one possible walk from $q_i \\rightarrow q_j$, with label $w$\n",
        "  >$w = \\sigma_1 \\sigma_2 \\cdots \\sigma_k$\n",
        "\n",
        "</br>*See illustration in notes 49-54*\n",
        "\n",
        "---\n",
        "###Language accepted by NFA\n",
        "* Formally, the language accepted by NFA, $M$, is:\n",
        ">$L(M) = \\{w_1,w_2,w_3, \\cdots\\}$</br>\n",
        ">>$w_m \\in L(M)$ </br>$\\Rightarrow$</br>$\\delta^*(q_0,w_m) = \\{q_i,q_j,\\cdots, q_k, \\cdots\\}$</br>*where some* $q_k \\in F$\n",
        "\n",
        "  * $L(M)$ is **the set of all strings** $w$ for which **there is a walk labeled w from the initial vertex of the transition graph to some final vertex**\n",
        "\n",
        "---\n",
        "###Non-determinism\n",
        "1. an *NFA* **can model a search or backtracking algorithm**\n",
        "2. *NFA* solutions may be **simpler** than *DFA* solutions (**can convert from NFA to DFA**)\n",
        "3. Note that complementing a NFA is a non-trivial task (unlike *DFAs* where all you needed to do was to just flip the accepting/non-accepting states)\n",
        "\n",
        "\n",
        "\n",
        "\n",
        "\n",
        "\n"
      ]
    },
    {
      "cell_type": "code",
      "metadata": {
        "id": "207f6X3lRlmY"
      },
      "source": [
        "from automata.fa.nfa import NFA\n",
        "\n",
        "nfa = NFA(\n",
        "    states={'q0', 'q1', 'q2'},\n",
        "    input_symbols={'a', 'b'},\n",
        "    transitions={\n",
        "        'q0': {'a': {'q1'}},\n",
        "        # Use '' as the key name for empty string (lambda/epsilon) transitions\n",
        "        'q1': {'a': {'q1'}, '': {'q2'}},\n",
        "        'q2': {'b': {'q0'}}\n",
        "    },\n",
        "    initial_state='q0',\n",
        "    final_states={'q1'}\n",
        ")\n",
        "\n",
        "print(nfa.read_input('aba'))"
      ],
      "execution_count": null,
      "outputs": []
    },
    {
      "cell_type": "markdown",
      "metadata": {
        "id": "XvcORsx1q4fx"
      },
      "source": [
        "#Equivalence of *NFA* & *DFA* - 2.3\n",
        "* Machine $M_1$ is **equivalent** to machine $M_2$ if\n",
        ">$L(M_1)=L(M_2)$\n",
        "* {Language accepted by **NFAs**} = {**Regular Languages**} = {Language accepted by **DFAs**}\n",
        "\n",
        "---\n",
        "##NFA to DFA\n",
        "\n",
        "* We are given an *NFA*, $M$</br></br>We want to convert it to an equivalent *DFA* \n",
        "$M^`$</br></br>\n",
        "With $L(M)=L(M^`)$ \n",
        ">**Step 1:**</br>\n",
        "{Language accepted by **NFAs**} $\\supseteq$ *(is a superset of)* {**Regular Languages**}</br></br>**Proof:** Every *DFA* is trivially an *NFA*</br>\n",
        "$\\Rightarrow$ Any language $L$ accepted by a *DFA* is also accepted by an NFA\n",
        "\n",
        "  >**Step 2:**</br>\n",
        "{Language accepted by **NFAs**} $\\supseteq$ *(is a superset of)* {**Regular Languages**}</br></br>**Proof:** Any *NFA* can be converted to an equivalent *FFA*</br>\n",
        "$\\Rightarrow$ Any language $L$ accepted by an *NFA* is also accepted by a DFA\n",
        "\n",
        "---\n",
        "##Procedure to convert NFA to DFA\n",
        "**Step 1:** A state in the constructed *DFA* is a subset of the states Q in the given *NFA*\n",
        ">**Initial state** of *NFA*: $q_0$</br>$\\Downarrow$</br>**Initial state** of *DFA*: $\\{q_0\\}$\n",
        "\n",
        "**Step 2:** For every *DFA's* state $\\{q_i,q_j,\\cdots q_m\\}$, compute in the *NFA*\n",
        ">$\\{\\sigma^*(q_i,a),$</br>$\\sigma^*(q_j,a)$,<br>$\\cdots \\}$</br> $= \\{q^`_i,q^`_j, \\cdots, q^`_m\\}$\n",
        "  * Add transition to *DFA*\n",
        "  >> $\\sigma(\\{ q_i, q_j, \\cdots, q_m \\},a) = \\{q^`_i,q^`_j, \\cdots, q^`_m\\}$\n",
        "\n",
        "**Repeat Step 2:** For all symbols in alphabet, until nomore transitions can be added</br></br>\n",
        "**Step 3:** For any *DFA's* state $\\{q_i,q_j,\\cdots q_m\\}$,</br></br>\n",
        "If some $q_j$ **is a final state** in the *NFA*,</br>\n",
        "Then$\\{q_i,q_j,\\cdots q_m\\}$, is a final state in the DFA</br></br>\n",
        "If  $\\lambda$ is in the language accepted by *NFA*,</br>\n",
        "Then$\\{q_0\\}$, the **initial state, also becomes a final state** in the *DFA*</br></br>\n",
        "</br>*See illustration in notes 14-17*\n",
        "\n",
        "---\n",
        "If the **NFA** has states $\\{q_0,q_1,q_2\\}$</br></br>\n",
        "the **DFA** has states in the power set</br>\n",
        "$\\varnothing, \\{q_0\\}, \\{q_1\\}, \\cdots, \\{q_1,q_2\\}, \\cdots, \\{q_3,q_4,q_7\\}, \\cdots $\n",
        "</br></br>\n",
        "\n",
        "---\n",
        "##NFA to DFA (Continued...)\n",
        "By the **process of construction**,</br></br>\n",
        "If there exists a walk on a string, $w$, from $q_0$ to $q_j$ in the **NFA**, $M$,</br></br>\n",
        "Then there exists a walk from $\\{q_0\\}$ to $\\{\\cdots, q_j, \\cdots \\}$ on the string $w$ in the **DFA** $M^`$</br></br>\n",
        "If $q_j$ is a final state in M, then $\\{\\cdots, q_j, \\cdots \\}$ is a final state in $M^`$</br></br>\n",
        "Thus any string $w$ accepted by $M$ is also accepted by $M^`$\n",
        "\n",
        "---\n",
        "##NFA to DFA (Theorem)\n",
        "Take any *NFA* $M$</br></br>\n",
        "Apply procedure to obtain *DFA* $M^`$</br></br>\n",
        "Then $M$ and $M^`$ are equivalent\n",
        ">$L(M)=L(M^`)$\n",
        "\n",
        "If $w \\in L(M)$ then $w \\in L(M^`)$</br></br>\n",
        "*See illustration in notes 20-22*\n",
        "\n",
        "\n"
      ]
    },
    {
      "cell_type": "markdown",
      "metadata": {
        "id": "MDsBYJnH1p4r"
      },
      "source": [
        "# Reduction In Number of States of a DFA - 2.4\n",
        "\n",
        "##Equivalent or Indistinguishable States\n",
        "* **Definition**:</br> \n",
        "Two states $p$ and $q$ are **equivalent (or indistinguishable)**, if, for every string $w \\in \\Sigma^*$, transition $\\delta^*(p, w)$ ends in an accepting state if and only if $\\delta^*(q, w)$ does.\n",
        "* **Property**:</br>\n",
        "If $p$ and $q$ are indistinguishable and if $q$ and $r$ are indistinguishable, then $p$ and $r$ are indistinguishable, then $p$ and $r$ are also indistinguishable.</br></br>*all three states $p,q,r$ are indistinguishable*\n",
        "\n",
        "---\n",
        "## Minimization Technique for DFA\n",
        "* The number of states of an automaton has direct affect to the size of the machine realizing the automaton\n",
        "* The procedure to reduce the states of a DFA is basedon finding and combining equivalent states\n",
        "* This procedure uses the set partitioning technique \n",
        "\n",
        "---\n",
        "## DFA $\\rightarrow$ Minimum DFA\n",
        "###Minimizatoin Algorithm (Steps):\n",
        "0. Remove $M_1$ the dead states and the states not reachable from the start date(if any)\n",
        "  * A state is **dead state** if it is **not an accepting state and has no out-going transitions, except to itself**\n",
        "1. Divide $Q$ (set of states) into two sets:\n",
        "  * Partition is called $P_0$\n",
        "    * One set will contain **all final states**\n",
        "    * Other set will contain **non-final states**\n",
        "2. Initialize $k=1$\n",
        "3. Find $P_k$ by partitioning the different sets of $P_{k-1}$\n",
        "  * We will take all possible pair of states\n",
        "  * If two states of a set are distinguishable, we will split the sets into different sets in $P_k$\n",
        "  > Two states $(q_i, q_j)$ are distinguishable in partition $P_k$ if for any input symbol $a, \\delta(q_i,a),$ and $\\delta(q_j,a)$ are in different sets in partition $P_{k-1}$\n",
        "4. Repeat above step. Stop when $P_k = P_{k-1}$ *(No change in partition)*\n",
        "5. All states of one set are merged into one state.\n",
        "  * Number of states in minimized DFA will be equal to number of sets in $P_k$\n",
        "  * The initial state will be the set that contains the given initial state\n",
        "  * Similarly, the sets that contain any of the initial final states will be the final state of the minimal DFA\n",
        "\n",
        "</br></br>\n",
        "*See example/illustration in notes 29-37*\n",
        "\n",
        "\n"
      ]
    },
    {
      "cell_type": "markdown",
      "metadata": {
        "id": "5uVl5_Z8Ee6I"
      },
      "source": [
        "#Regular Languages & Regular Grammars - Chapter 3\n",
        "* Alternative methods for describing regular languages\n",
        "* Regular expressions\n",
        "  * form is reminiscent of the familiar arithmetic expression\n",
        "  * simple string form but are restricted\n",
        "* Regular grammars\n",
        "  * Special cases of many types of grammars"
      ]
    },
    {
      "cell_type": "markdown",
      "metadata": {
        "id": "V_dv9pJgUuVL"
      },
      "source": [
        "# Regular Expressions - 3.1\n",
        "* **Regular languages**\n",
        "  * are accepted by DFAs and NFAs\n",
        "  * DFAs and NFA **are not** concise descriptions\n",
        "    * We will examine **regular expressions** as a **concise representation for regular languages**\n",
        "\n",
        "---\n",
        "##Regular Expressions\n",
        "* Regular expressions describe regular languages\n",
        "* Regular expressions has a structure or syntax *(akin to arithmetic/algebraic expressions)*\n",
        "* Regular expression is a **string consisting of symbols from the alphabet $\\Sigma$, parenthesis and operators: $+ \\bullet *$**\n",
        "\n",
        "###**Linz Definition**\n",
        "Let $\\Sigma$ be a given alphabet:\n",
        "1. $\\varnothing, \\lambda,$ and $a\\in \\Sigma$ **are all regular expressions**\n",
        "  * These are called **primitive regular expressions**\n",
        "2. If $r_1$ and $r_2$ are regular expressions, then $r_1 + r_2, r_1 \\bullet r_2, r_1^*,$ and $(r_1)$ are also *regular expressions*\n",
        "3. A **string is a regular expression if and only if it can be derived from the primitive regular expressions by a finite number of applications of the rules in (2)**\n",
        "\n",
        "---\n",
        "##Operators in Regular Expressions\n",
        "* $r + s \\Rightarrow$ represents the **union** of two regular expressions\n",
        "* $r \\bullet s \\Rightarrow$ represents the **concatenation** of two regular expressions\n",
        "  * has a higher precedence than union ($+$)\n",
        "  > $r \\bullet s + t \\neq r \\bullet (s+t)$\n",
        "* $r^* \\Rightarrow$ is the **star closure** of a regular expression\n",
        "  * has a higher precedence than concatenation ($\\bullet$)\n",
        "  > $r \\bullet s^* \\neq (r \\bullet s)^* $\n",
        "  * can usually be ommitted\n",
        "  >$r \\bullet s = rs$\n",
        "* $(r) \\Rightarrow$ is the same as regular expression $r$. It is parenthesized to express the order of operations explicitly\n",
        "\n",
        "\n",
        "---\n",
        "**Example regular expression**</br>\n",
        "For,\n",
        ">$(a+(b \\bullet c))^*$\n",
        ">>$a,b,c \\Rightarrow$ **primitive regular expressions**</br>\n",
        "$b\\bullet c\\Rightarrow$ **concatenation** of regular expressions $b$ and $c$</br>\n",
        "$(a+(b \\bullet c)) \\Rightarrow$ **union** of regular expressions $a$ and $(b \\bullet c)$</br>\n",
        "$(a+(b \\bullet c))^* \\Rightarrow$ **star-closure** of regular expresssion $(a+(b \\bullet c))$\n",
        "\n",
        "---\n",
        "##Language of Regular Expressions\n",
        "* The language $L(r)$ denoted by any regular expression $r$ is defined (inductively) by the following rules</br></br>\n",
        "* **Base cases**:\n",
        "  1. $\\varnothing$ is a regular expression denoting the empty set\n",
        "  > $L(\\varnothing)= \\varnothing$\n",
        "  2. $\\lambda$ is a regular expression denoting $\\{\\lambda\\}$\n",
        "  > $L(\\lambda)= \\{\\lambda\\}$\n",
        "  3. For every $a \\in \\Sigma, a$ is a regular expression denoting $\\{a\\}$\n",
        "  > $L(a)= \\{a\\}$\n",
        "* **Inductive cases**:\n",
        "  4. $L(r_1 + r_2)= L(r_1) \\cup L(r_2)$\n",
        "  5. $L(r_1 \\bullet r_2)= L(r_1) \\bullet L(r_2)$\n",
        "  6. $L((r_1))= L(r_1)$\n",
        "  7. $L(r_1^*) = (L(r_1))^*$\n",
        "\n",
        "---\n",
        "**Examples**</br></br>\n",
        "*Show the language* $L(a^* \\bullet (a + b))$ *in set notation.*\n",
        ">$L(a^* \\bullet (a + b))$ </br></br>**(Rule 5)**</br>\n",
        "$=L(a^*) \\bullet L(a + b)$</br>**(Rule 7)**</br>\n",
        "$=(L(a))^* \\bullet L(a + b)$</br>**(Rule 4)**</br>\n",
        "$=(L(a))^* \\bullet (L(a) \\cup L(b))$</br></br>**(Def. of star-closure of languages)**</br>\n",
        "$\\{\\lambda, a,aa,aaa, \\cdots \\}\\{a,b\\}$</br></br>**(Def. of concatenation of languages)**</br>\n",
        "$\\{a,aa,aaa, \\cdots,ab,aab,aaab, \\cdots\\}$\n",
        "\n",
        "</br>$\\Sigma = \\{a,b\\}$\n",
        ">*Regular expression:* $r = (a+b)^*(a+bb)$<br>$\\Rightarrow L(r)=\\{a,bb,aa,abb,ba,bbb, \\cdots\\}$</br></br>\n",
        "*Regular expression:* $r = (aa)^*(bb)^*b$<br>$\\Rightarrow L(r)=\\{a^{2n}b^{2m}b: n,m \\geq 0\\}$\n",
        "\n",
        "---\n",
        "\n",
        "\n",
        "\n",
        "\n",
        "\n",
        "\n",
        "\n"
      ]
    },
    {
      "cell_type": "markdown",
      "metadata": {
        "id": "5H7mLFG5KfeX"
      },
      "source": [
        "###Regular Expressions Examples\n",
        "Given regular expressions for the following: $\\Sigma\\{a,b\\}$:\n",
        "* **exactly one** \"a\"\n",
        ">$b^*ab^*$\n",
        "\n",
        "* **at least** one \"a\"\n",
        ">$b^*a(a+b)^*$\n",
        "\n",
        "* **at most** one \"a\"\n",
        ">$b^*ab^*+b^* \\Leftrightarrow b^*(a+\\lambda)b^*$\n",
        "\n",
        "* **all a's immediately followed by a b**\n",
        ">$b^*ab^*+b^* \\Leftrightarrow b^*(a+\\lambda)b^*$\n",
        "\n",
        "</br></br>\n",
        "*See example/illustration in notes 14-17*\n",
        "\n",
        "---\n",
        "###Equivalent Regular Expressions\n",
        "* Definition:\n",
        ">Regular expressions</br> $r_1$ and $r_2$</br></br>\n",
        "are equivalent if</br>\n",
        "$L(r_1)=L(r_2)$"
      ]
    },
    {
      "cell_type": "markdown",
      "metadata": {
        "id": "co3Jsg0uUbKE"
      },
      "source": [
        "# Regular Expressions and Regular Languages - 3.2\n",
        "\n"
      ]
    },
    {
      "cell_type": "markdown",
      "metadata": {
        "id": "-J2Ckf4NdN_4"
      },
      "source": [
        "##NFAs revisited\n",
        "* Can typically be defined with many final states\n",
        "* Any NFA can be converted to an equivalent NFA with a single final state as an easy step\n",
        "* NFA with a single final state becomes easy to describe properties of regular expressions and regular languages"
      ]
    },
    {
      "cell_type": "markdown",
      "metadata": {
        "id": "bwEO8TqKfKaS"
      },
      "source": [
        "#Regular Grammars - 3.3\n",
        "##Notation\n",
        "* **Grammar** $G$ is defined by quadruple:</br>\n",
        "  $G = (V, T, S, P)$</br>\n",
        "  * **V**: Set of variables *(also referred to as non-terminals)*\n",
        "  * **T**: Set of terminal symbols\n",
        "  * **S**: Start variable\n",
        "  * **P**: Set of Production rules\n",
        "\n",
        "---\n",
        "##Linear Grammars\n",
        "* Grammars with one variable on the left side and **at most one variable at the right side of a production**\n",
        ">$S\\rightarrow aSb$</br>$S\\rightarrow \\lambda$\n",
        "\n",
        "  >$S \\rightarrow Ab$</br>$A \\rightarrow aAb$</br>$A \\rightarrow \\lambda$\n",
        "\n",
        "  >$S \\rightarrow A$</br>$A \\rightarrow aB |\\lambda$</br>$B \\rightarrow Ab$\n",
        "\n",
        "* can be **right linear** or **left linear** grammars depending on the position of the non-terminal in the production rule\n",
        "\n",
        "##Right-Linear Grammars\n",
        "* All productions have form:\n",
        ">$A \\rightarrow xB$</br>*or*</br>$A\\rightarrow x$\n",
        ">>*Example:*</br>$S\\rightarrow abS$</br>$S \\rightarrow a$\n",
        "\n",
        "  * The non-terminal is the right most symbol in the production rule\n",
        "\n",
        "##Left-Linear Grammars\n",
        "* All productions have form:\n",
        ">$A \\rightarrow Bx$</br>*or*</br>$A\\rightarrow x$\n",
        ">>*Example:*</br>$S\\rightarrow Sab$</br>$A \\rightarrow Aab|B$</br>$B \\rightarrow a$\n",
        "\n",
        "  * The non-terminal is the left most symbol in the production rule\n",
        "\n",
        "---\n",
        "##Non-Linear Grammar\n",
        "* Grammar $G$:\n",
        ">$S\\rightarrow SS$</br>$S\\rightarrow \\lambda$</br>$S\\rightarrow aSb$</br>$S\\rightarrow bSa$\n",
        "\n",
        "\n",
        "\n"
      ]
    },
    {
      "cell_type": "markdown",
      "metadata": {
        "id": "qnoAkZPXudqi"
      },
      "source": [
        "##Regular Grammars\n",
        "* **Any right-linear or left-linear grammar**\n",
        "  * If a grammar **mixes the concepts of right and left linearity**, it is **not a regular grammar**\n",
        ">For,</br> $(\\{S\\}, \\{a,b\\},S,P)$\n",
        "\n",
        "  >Examples for **regular grammars**\n",
        ">>$S\\rightarrow abS$</br>$S\\rightarrow a$\n",
        "\n",
        "  >>$S \\rightarrow Aab$</br>$A \\rightarrow Aab|B$</br>$B \\rightarrow a$\n",
        "\n",
        "  >Examples for **non-regular grammars**\n",
        ">>$S\\rightarrow A$</br>$S\\rightarrow aB|\\lambda$</br>$B\\rightarrow Ab$\n",
        "\n",
        "\n"
      ]
    },
    {
      "cell_type": "markdown",
      "metadata": {
        "id": "nSdFfCfuxH5t"
      },
      "source": [
        "##Regular Grammars and Regular Languages\n",
        "* **Theorem**\n",
        "> $\\{$ **Languages Generated by Regular Grammars** $\\} = \\{$ **Regular Languages** $\\}$\n",
        "\n",
        "  >> 1. **Regular grammars generates Regular languages**\n",
        "  2. **Regular grammars for Regular languages**\n",
        "  \n",
        "  * Notes:\n",
        "    * Regular grammars $\\Rightarrow$ Consider **right-linear grammars**\n",
        "    * Regular languages $\\Rightarrow \\exists$ a **nfa or dfa that accepts the language**\n",
        "    * We seek to **show the equivalence of language generated by right-linear grammar and language accepted by a nfa**\n",
        "\n",
        "---\n",
        "###Regular grammars generates Regular Languages\n",
        "Let $G$ be a **right-linear grammar**,</br></br>We will prove: $L(G)$ is **regular**\n",
        ">Construct **NFA** $M$ with $L(M) = L(G)$\n",
        "\n",
        ">Grammar $G$ is **right-linear**</br></br>\n",
        "Example:</br>\n",
        ">>$S \\rightarrow aA|B$</br>\n",
        "$A \\rightarrow aaB$</br>\n",
        "$B \\rightarrow bB|a$</br>\n",
        "\n",
        ">Construct **NFA** $M$ such that **every state is a grammar variable** $\\Rightarrow \\{S,A,B,V_F\\}$\n",
        "\n",
        ">Add edges for each production\n",
        ">>Example for:</br>$S \\rightarrow aA$</br>\n",
        "$A \\rightarrow aaB$</br></br>\n",
        "$\\longrightarrow_{start} \\bigcirc_S \\longrightarrow_a \\bigcirc_A \\longrightarrow_a \\circ \\longrightarrow_a \\bigcirc_B$\n",
        "\n",
        "</br></br>*See example/illustration in notes 15-21*\n",
        "\n",
        "---\n",
        "##Regular Grammars and Regular Languages (continued)\n",
        "* **Theorem**\n",
        "> Let\n",
        "$G= (V,T,S,P)$\n",
        " be a **right-linear grammar**</br>\n",
        "  $\\Rightarrow L(G)$ is a **regular language**\n",
        "\n",
        "  >Proof: **By construction of NFA**\n",
        "\n",
        "  >Let:</br> $V = \\{V_0, V_1, \\cdots \\}$</br> \n",
        "  $S=V_0$</br></br>\n",
        "  **Productions** $P$ are of the form:</br>\n",
        "  >>$V_i \\rightarrow a_1 a_2\\cdots a_m V_j$</br>\n",
        "  $V_i \\rightarrow a_1 a_2\\cdots a_m$\n",
        "\n",
        "  >We construct **NFA** $M$ such that:</br>\n",
        "  each **variable** $V_i$ **corresponds to a node**:\n",
        "  >>$\\longrightarrow_{start} \\bigcirc_{V_0}$</br>\n",
        "  $\\bigcirc_{V_1}$$\\bigcirc_{V_3}$</br>\n",
        "  $\\bigcirc_{V_2}$$\\bigcirc_{V_4}$</br>\n",
        "   $\\bigcirc_{V_F}$\n",
        "  \n",
        "  >For each **production**: $V_i\\rightarrow a_1 a_2\\cdots a_m V_j$</br>\n",
        "  we **add transitions and itermediate nodes**\n",
        "  >>$\\bigcirc_{V_i} \\longrightarrow^{a_1} \\bigcirc \\longrightarrow^{a_2} \\cdots \\longrightarrow \\bigcirc \\longrightarrow^{a_m} \\bigcirc_{V_j}$</br>\n",
        "\n",
        "  >>$\\bigcirc_{V_i} \\longrightarrow^{a_1} \\bigcirc \\longrightarrow^{a_2} \\cdots \\longrightarrow \\bigcirc \\longrightarrow^{a_m} \\bigtriangleup_{V_F}$</br></br>****($\\bigtriangleup$ symbolizing final variable/node $V_F$)*\n",
        "\n",
        "  >If $w \\in L(G)$,</br>\n",
        "  $\\Rightarrow$ **there is a path in the NFA** (by construction) from $V_0$ to $V_F$\n",
        "\n",
        "  >If $w$ is **accepted** by the NFA,</br>\n",
        "  $\\Rightarrow$ by construction, we **can produce a derivation sequence**</br>\n",
        "  >>$V_0 \\Rightarrow^* w$\n",
        "\n",
        "  >Then\n",
        "  >>$ L(G) = L(M)$\n",
        "\n",
        "---\n",
        "###Regular grammars generates Regular Languages (continued)\n",
        "For **Grammar** $G$:</br>\n",
        ">$S \\rightarrow aA|B$</br>\n",
        "$A \\rightarrow aaB$</br>\n",
        "$B \\rightarrow bB|a$</br>\n",
        "\n",
        "For the **derivation sequence** for $w=aaaba$</br>\n",
        ">$S \\Rightarrow aA \\Rightarrow aaaB \\Rightarrow aaabB \\Rightarrow aaaba$</br>\n",
        "\n",
        "**There exists a path** from $S$ to $V_F$ on $w=aaaba$\n",
        ">If $w \\in L(G)$</br>\n",
        "$\\Rightarrow w \\in L(M)$\n",
        "\n",
        "---\n",
        "###The case of **Left-Linear** Grammars\n",
        "Let $G$ be a **left-linear grammar**,</br>\n",
        ">We can **construct an equivalent right-linear grammar**\n",
        "\n",
        "Therefore, the **language**, $L(G)$, **generated by any regular grammar (left-linear or right-linear) is regular**</br></br>\n",
        "\n",
        "Example:\n",
        ">Given:</br>\n",
        "$G = (\\{S,A,B\\}, \\{a,b\\},S,P)$, where $P$:\n",
        ">>$S \\rightarrow aA|B$</br>\n",
        "$A \\rightarrow aaB$</br>\n",
        "$B \\rightarrow bB|a$</br>\n",
        "\n",
        ">Construct an equivalent **nfa**\n",
        ">>$(\\{S,A,I,B,V_F\\}, \\{a,b\\}, \\delta ,S ,V_F)$,</br></br>\n",
        "where $\\delta$ is given by transition graph\n",
        "\n",
        "---\n",
        "\n",
        "  \n",
        "   \n",
        "\n",
        "\n",
        "\n",
        "\n",
        "\n"
      ]
    },
    {
      "cell_type": "markdown",
      "metadata": {
        "id": "erRKUIf3ZXBf"
      },
      "source": [
        "##Regular Grammars for Regular Languages\n",
        "* **Theorem**:</br>\n",
        " If $L$ is a regular language over $\\Sigma$\n",
        " >There exists a **right-linear grammar**\n",
        "  >>$G=(V,\\Sigma, S, P)$\n",
        "\n",
        "  >such that\n",
        "  >>$L=L(G)$\n",
        "\n",
        "* **Proof**:</br>\n",
        "  *(By construction)*</br>\n",
        "  1. Start with the finite acceptor (DFA or NFA) of the language and **reverse the earlier construction**\n",
        "    * the states of the acceptor become the variable, and the symbols causing the transitions become the terminal in the grammar\n",
        "\n",
        "  2. Let finite acceptor $M = (Q, \\Sigma, \\delta, q_0, F)$ accept $L$\n",
        "    * Assume,\n",
        "  >$Q= (q_0,q_1,\\cdots, q_n)$</br>\n",
        "    * Let,\n",
        "  >$\\Sigma = (a_1,a_2, \\cdots, a_m)$\n",
        "\n",
        "  3. Construct the **right-linear grammar**\n",
        "  >$G=(V,\\Sigma,S,P)$</br></br>(where)</br>\n",
        "  $V = (q_0,q_1,\\cdots, q_n)$</br>\n",
        "  $S = q_0$\n",
        "\n",
        "  4. For **each transition** of $M$\n",
        "  >$\\delta(q_i,a_j)$\n",
        "\n",
        "      **add a production** in $P$\n",
        "      >$q_i \\rightarrow a_j q_k$\n",
        "      >>If $q_f \\in F$, add $q_f \\rightarrow \\lambda$\n",
        "  \n",
        "  5. If\n",
        "  >$w= a_i,a_j,\\cdots,a_ka_f \\in L$\n",
        "\n",
        "      For $M$ to accept this string, **there exists a path** (make moves to $M$)\n",
        "      >$\\delta(q_0,a_i) = q_p$</br>\n",
        "      $\\delta(q_p,a_j)=q_r$</br>\n",
        "      $\\cdots$</br>\n",
        "      $\\delta(q_s,a_a)=q_t$</br>\n",
        "      $\\delta(q_s,a_f)=q_f \\in F$</br>\n",
        "\n",
        "      By construction, there will be productions for each of the $\\delta$'s, of the form:\n",
        "      >$q_x \\rightarrow a_yq_z$\n",
        "\n",
        "      We can make a derivation\n",
        "      >$q_0 \\Rightarrow a_iq_p \\Rightarrow \\cdots \\Rightarrow a_i,a_j,\\cdots,a_ka_f$\n",
        "\n",
        "      with the grammar $G$ and $w \\in L(G)$ \n",
        "\n",
        "  6. Conversely, if \n",
        "  >$w \\in L(G)$\n",
        "  \n",
        "      then\n",
        "      >$q_0 \\Rightarrow a_iq_p \\Rightarrow \\cdots \\Rightarrow a_i,a_j,\\cdots,a_ka_f$\n",
        "\n",
        "      This implies\n",
        "      >$\\delta^*(a_i,a_j,\\cdots,a_ka_f) = q_f$\n",
        "\n",
        "      This implies $a_i,a_j,\\cdots,a_ka_f$ is accepted.\n",
        "\n",
        "---\n",
        "Example:\n",
        ">Given an **NFA**, $M$:\n",
        "</br>$M = (Q, \\Sigma, \\delta, q_0, F)$\n",
        "</br></br>Where,\n",
        "</br>$Q=\\{q_0,q_1,q_2,q_3\\}$\n",
        "</br>$\\Sigma=\\{a,b\\}$\n",
        "</br>$F =\\{q_3\\}, \\delta$\n",
        "\n",
        ">The equivalent right-linear grammar, $G$ is\n",
        ">> $(\\{q_0,q_1,q_2,q_3\\}, \\{a,b\\},q_0,P)$ \n",
        "\n",
        ">Where $P$ are defined by\n",
        ">>$q_0 \\rightarrow aq_1$</br>\n",
        "$q_1 \\rightarrow bq_1$</br>\n",
        "$q_1 \\rightarrow aq_2$</br>\n",
        "$q_2 \\rightarrow bq_3$</br>\n",
        "$q_3 \\rightarrow q_1$</br>\n",
        "$q_3 \\rightarrow \\lambda$</br>\n",
        "\n",
        "\n",
        "*See illustrations/examples on pg. 34-35*\n",
        "\n",
        "\n",
        "\n",
        "\n",
        "\n",
        "      \n",
        "\n",
        "\n",
        "\n"
      ]
    },
    {
      "cell_type": "markdown",
      "metadata": {
        "id": "QA78-r9rSbP2"
      },
      "source": [
        "# Properties of Regular Languages - 4.1\n",
        "* **For a regular language there exists an NFA that accepts the same language, that is expressed by a regular expression or a regular grammar**\n",
        "\n",
        "---\n",
        "\n",
        "## Operations and Closure\n",
        "* **Closure of a set with respect to an operator**\n",
        "  * An operation performed on operands from a set and **the output result also belongs to the same set**\n",
        "  * The **set is then said to be closed under this operation**\n"
      ]
    },
    {
      "cell_type": "markdown",
      "metadata": {
        "id": "NPeFte5RUgZw"
      },
      "source": [
        "## Closure of Regular Languages Under Set Operations\n",
        "* For regular languages $L_1$ and $L_2$..</br>\n",
        "  * **The following are also all *Regular Languages***\n",
        "    * **Union:**\n",
        "  >$L_1 \\cup L_2$\n",
        "\n",
        "    * **Concatenation:**\n",
        "  > $L_1 L_2$\n",
        "\n",
        "    * **Star:**\n",
        "  > $L_1^*$\n",
        "\n",
        "    * **Reversal:**\n",
        "  > $L_1^R$\n",
        "\n",
        "    * **Complement:**\n",
        "  > $\\overline{L_1}$\n",
        "\n",
        "    * **Intersecton:**\n",
        "  >$L_1 \\cap L_2$\n",
        "\n",
        "    * **Difference:**\n",
        "  > $L_1 - L_2$\n",
        "\n",
        "  * Regular languages are **closed** under set operations listed above\n",
        "\n",
        "---\n",
        "\n",
        "## Notation\n",
        "* For **Regular languages** \n",
        "  > $L_1$ \n",
        "\n",
        "  >$L_2$\n",
        "\n",
        "  * There exists **NFAs** \n",
        "    > $M_1$\n",
        "  \n",
        "    > $M_2$\n",
        "  \n",
        "      such that\n",
        "    > $L(M_1) = L_1$\n",
        "\n",
        "    > $L(M_2) = L_2$\n",
        "\n",
        "  * There exists a **regular expression**\n",
        "    > $r_1$\n",
        "\n",
        "    > $r_2$\n",
        "\n",
        "      such that\n",
        "    > $L(r_1) = L_1$\n",
        "\n",
        "    > $L(r_2) = L_2$\n",
        "\n",
        "* **Example 1**\n",
        "  > $ L_1 = \\{ a^nb \\} $, $n \\geq 0$\n",
        "\n",
        "  > $r_1 = a^*b$\n",
        "\n",
        "  > $\\Rightarrow$</br> $L(r_1)=L_1$\n",
        "* **Example 2**\n",
        "  > $ L_2 = \\{ ba \\} $\n",
        "\n",
        "  > $r_2 = ba$\n",
        "\n",
        "  > $\\Rightarrow$</br> $L(r_2)=L_2$\n",
        "\n",
        "\n",
        "  \n",
        "\n"
      ]
    },
    {
      "cell_type": "markdown",
      "metadata": {
        "id": "3a4axL0ufXz_"
      },
      "source": [
        "## Reverse, $L^R$\n",
        "We can construct NFA for $L_1^R$ as follows:\n",
        "1. **Reverse all transitions**\n",
        "2. **Make initial state the final state and vice versa**\n",
        "\n",
        "If $w$ is accepted by $M_1$, $w^R$ is accepted by $M_1^`$\n",
        "\n",
        "* **Example 1**\n",
        "  > $ L_1 = \\{ a^nb \\} $, $n \\geq 0$\n",
        "\n",
        "  > $ L_1^R = \\{ ba^n \\} $, $n \\geq 0$\n"
      ]
    },
    {
      "cell_type": "markdown",
      "metadata": {
        "id": "IAVPopnyh1lJ"
      },
      "source": [
        "## Complement, $\\overline{L_1}$\n",
        "We can construct DFA for $\\overline{L_1}$ as follows:\n",
        "1. **Take the DFA, $M_1$, that accepts $L_1$**\n",
        "2. **Make final states and non-final, and vice versa**\n",
        "3. **The initial state remains the same**\n",
        "\n",
        "If $w$ is accepted by $M_1$, $w$ is **not accepted** by $M_1^,$, and vice versa\n",
        "</br>$\\Rightarrow$ **all the strings that are not accepted by $M_1$ are accepted by $M_1^,$**</br></br>*Process **only works  on a DFA** and does not work on an NFA*\n",
        "\n",
        "* **Example 1**\n",
        "  > $ L_1 = \\{ a^nb \\} $, $n \\geq 0$\n",
        "\n",
        "  > $ \\overline{L_1} = \\{ a,b \\}^* - \\{ a^nb \\}$\n",
        "\n",
        "  * $ L_1, \\overline{L_1}$ are described in *set notation* and not as a *regular expression*\n",
        "  > Regular expression:</br> $L_1 = a ^*b$\n",
        "\n",
        "    **($-$) operator NOT defined for regular expressions**\n"
      ]
    },
    {
      "cell_type": "markdown",
      "metadata": {
        "id": "4al3Z7fyohEr"
      },
      "source": [
        "## Intersection, $L_1 \\cap L_2$\n",
        "We can construct NFA for $L_1 \\cap L_2$ as follows:\n",
        "> Let</br> \n",
        "$L_1 = L(M_1)$</br>\n",
        "and</br>\n",
        "$L_2 = L(M_2)$</br></br>\n",
        "For **DFAs**:\n",
        ">> $M_1 = (Q, \\Sigma, \\delta_1, q_0, F_1)$</br>\n",
        "$M_2 = (P, \\Sigma, \\delta_2, p_0, F_2)$\n",
        "\n",
        "> Construct $\\hat{M} = (\\hat{Q}, \\Sigma, \\hat{\\delta}, (q_0,p_0), \\hat{F})$, where</br>\n",
        ">>$\\hat{Q} = Q \\times P$</br></br>\n",
        "$\\hat{\\delta}((q_i,p_j),a) = (q_k,p_l)$</br>\n",
        "*when*</br> $\\delta_1(q_i,a) = q_k$</br>\n",
        "$\\delta_2(p_j,a) = p_l$</br></br>\n",
        "$\\hat{F} = \\{(q,p) : q \\in F_1, p \\in F_2\\}$\n",
        "\n",
        "> $\\omega \\in L_1 \\cap L_2$, if and only if $\\omega$ accepted by $\\hat{M}$\n",
        "\n",
        "> $\\Rightarrow L_1 \\cap L_2$ **is regular**\n",
        "\n",
        "---\n",
        "###Another proof\n",
        "**DeMorgan's Law:** \n",
        "> $L_1 \\cap L_2 = \\overline{ \\overline{L_1} \\cup \\overline{L_2}}$\n",
        "\n",
        "Then...\n",
        "> $L_1, L_2 \\Rightarrow $ **regular**</br></br> \n",
        "$\\overline{L_1}, \\overline{L_2} \\Rightarrow $ **regular**</br></br>\n",
        "$\\overline{L_1} \\cup \\overline{L_2} \\Rightarrow $ **regular**</br></br>\n",
        "$\\overline{ \\overline{L_1} \\cup \\overline{L_2}} \\Rightarrow $ **regular**</br></br>\n",
        "$L_1 \\cap L_2 \\Rightarrow $ **regular**</br></br>\n",
        "\n"
      ]
    },
    {
      "cell_type": "code",
      "metadata": {
        "id": "9DH1XcXsR5IN"
      },
      "source": [
        "# DFA Intersection\n",
        "\n",
        "# {state: [a,b] or [0,1]}\n",
        "q_transitions = {'A': ['B', 'A'],\n",
        "                 'B': ['C', 'B'],\n",
        "                 'C': ['D', 'C'],\n",
        "                 'D': ['D', 'D']}\n",
        "\n",
        "p_transitions = {'W': ['W', 'X'],\n",
        "                 'X': ['X', 'Y'],\n",
        "                 'Y': ['Z', 'Z'],\n",
        "                 'Z': ['Z', 'Z']}\n",
        "\n",
        "new_states = {}\n",
        "\n",
        "for q in q_transitions:\n",
        "    for p in p_transitions:\n",
        "        state_name = q + p\n",
        "\n",
        "        transition_0 = q_transitions.get(q)[0] + p_transitions.get(p)[0]\n",
        "        transition_1 = q_transitions.get(q)[1] + p_transitions.get(p)[1]\n",
        "\n",
        "        new_states.update({state_name: [transition_0, transition_1]})\n",
        "\n",
        "count = 1\n",
        "for state in new_states:\n",
        "    print(f\"Transition {count}: {state}\")\n",
        "    print(f\"a ---> {new_states.get(state)[0]}\")\n",
        "    print(f\"b ---> {new_states.get(state)[1]}\\n\")\n",
        "    count += 1"
      ],
      "execution_count": null,
      "outputs": []
    },
    {
      "cell_type": "markdown",
      "metadata": {
        "id": "nOUkZ4MRwIhO"
      },
      "source": [
        "## Difference, $L_1 - L_2$\n",
        "* $L_1 - L_2$ contains all strings from $L_1$ **but not in** $L_2$\n",
        "* All string not in $L_2 = $ \\{**all strings in complement of** $L_2$\\}</br></br>\n",
        "\n",
        "$L_1 - L_2 = L_1 \\cap \\overline{L_2}$</br></br>Then..\n",
        ">$L_1, L_2 \\Rightarrow $ **regular**</br></br> \n",
        "$L_1, \\overline{L_2} \\Rightarrow $ **regular**</br></br>\n",
        "$L_1 \\cap \\overline{L_2} \\Rightarrow $ **regular**</br></br>\n",
        "$L_1 - L_2 \\Rightarrow $ **regular**</br></br>"
      ]
    },
    {
      "cell_type": "markdown",
      "metadata": {
        "id": "wWaFB0espmaZ"
      },
      "source": [
        "# Elementary Questions About Regular Languages - 4.2\n",
        "\n",
        "## Standard Representations of Regular Languages\n",
        "* Regular Languages\n",
        "  * **DFAs**\n",
        "  * **NFAs**\n",
        "  * **Regular Expressions**\n",
        "  * **Regular Grammars**\n",
        "\n",
        "---\n",
        "### Membership Question\n",
        "\n",
        "1. Given **regular language** $L$ and **string** $w$, how can we check if</br>$w \\in L$ \n",
        "> **Answer:**</br> Take the **DFA** that accepts $L$ and **check if $w$ is accepted**\n",
        "\n",
        "2. Given **regular language** $L$, how can we check if $L$ **is empty**:</br>\n",
        "$(L = \\varnothing)$ ? \n",
        "> **Answer:**</br> Take the **DFA** that accepts $L$ </br></br>\n",
        "Check if there is **any path from the initial state to a final state**\n",
        "\n",
        "3.  Given **regular language** $L$, how can we check if $L$ **is finite**?</br>\n",
        "> **Answer:**</br> Take the **DFA** that accepts $L$ </br></br>\n",
        "Check if there is **a walk with cycle (loop) from the initial state to a final state**\n",
        "\n",
        "4. Given **regular languages** $L_1$ and $L_2$, how can we check if $L_1 = L_2$ ?</br>\n",
        "> **Answer:**</br> Find if:</br>  $(L_1 \\cap \\overline{L_2}) \\cup (\\overline{L_1} \\cap L_2) = \\varnothing$ \n",
        ">> **Procedure:**</br>\n",
        "  1. **Construct DFAs** for $L_1,L_2$\n",
        "  2. **Construct DFA** for $(L_1 \\cap \\overline{L_2}) \\cup (\\overline{L_1} \\cap L_2)$\n",
        "  3. Check if the **language accepted** by the above **DFA is empty**\n",
        "    * i.e if there is **path from initial state to final state**\n",
        "\n",
        "  > $(L_1 \\cap \\overline{L_2}) \\cup (\\overline{L_1} \\cap L_2) = \\varnothing$\n",
        "  >> **example 1:** $\\rightarrow (L_1 \\cap \\overline{L_2} = \\varnothing$ **and** $\\overline{L_1} \\cap L_2 = \\varnothing$)</br></br> \n",
        "  $(L_1 \\cap \\overline{L_2})  = \\varnothing$ </br>$(\\overline{L_1} \\cap L_2) = \\varnothing$\n",
        "\n",
        "  >> $\\Rightarrow$ </br>\n",
        "  $L_1 \\subseteq L_2$ </br>\n",
        "  $L_2 \\subseteq L_1$ </br></br>\n",
        "  $\\Rightarrow$ </br>\n",
        "  $L_1 = L_2$\n",
        "\n",
        "  > $(L_1 \\cap \\overline{L_2}) \\cup (\\overline{L_1} \\cap L_2) \\neq \\varnothing$\n",
        "  >> **example 2:** $\\rightarrow (L_1 \\cap \\overline{L_2} \\neq \\varnothing$ **or** $\\overline{L_1} \\cap L_2 \\neq \\varnothing$)</br></br> \n",
        "  $(L_1 \\cap \\overline{L_2})  \\neq \\varnothing$ </br>$(\\overline{L_1} \\cap L_2) \\neq \\varnothing$\n",
        "\n",
        "  >> $\\Rightarrow$ </br>\n",
        "  $L_1 \\not\\subset L_2$ </br>\n",
        "  $L_2 \\not\\subset L_1$ </br></br>\n",
        "  $\\Rightarrow$ </br>\n",
        "  $L_1 \\neq L_2$\n",
        "\n",
        "5. Given **regular language** $L$, how can we determine if there is **a string** $w$, such that $w$ **and** $w^R \\in L$ ?</br>\n",
        "> **Answer:** \n",
        ">> **Procedure:**</br>\n",
        "  1. **Construct DFA**, $M$,for $L$\n",
        "  2. **Construct DFA**, $M_1$,for $L_1$\n",
        "  3. **Construct DFA** for $L \\cap L^R$\n",
        "  4. Check if the **language accepted by DFA (3) is not empty** \n",
        "  5. **If the language is not empty**, there is at least one string $w$ and $w^R \\in L$"
      ]
    },
    {
      "cell_type": "markdown",
      "metadata": {
        "id": "R8GvsIAA7ysK"
      },
      "source": [
        "# Identifying Non-regular Languages - 4.3\n",
        "\n",
        "* **Non-regular Languages Examples:**\n",
        "  > $\\{a^nb^n: n \\geq 0 \\}$\n",
        "  \n",
        "  > $\\{vv^R: v \\in \\{a,b\\}^* \\}$"
      ]
    },
    {
      "cell_type": "markdown",
      "metadata": {
        "id": "_YZiL-8a8jvr"
      },
      "source": [
        "## Pigeonhole Principle\n",
        "* Finite automata with limited memory (finite states) cannot accept all infinite languages\n",
        "  * There exists languages that are not regular\n",
        "\n",
        "---\n",
        "\n",
        "## The Pumping Lemma\n",
        "\n",
        "* Take an **infinite** regular language $L$\n",
        "  * There exists a **DFA** that accepts $L$, with $m$ states\n",
        "\n",
        "* Take string $w$ with $w \\in L$\n",
        "  * If **string** $w$ has **length** $|w| \\geq m$</br> **(where $m$ is number of states of DFA)**\n",
        "  * Then, a **state is repeated in the walk** $w$\n",
        "\n",
        "* Let $q$ be the **first state repeated** in the walk of $w$\n",
        "\n",
        "* Write,</br> $w=xyz$\n",
        "\n",
        "* **Observations:**\n",
        "  > length of $|xy| \\leq m$,</br>since **scanning $m$ symbols would imply a repetition of any one state**\n",
        "\n",
        "  > $|y| \\geq m$,</br>since **at least one symbol has been scanned**\n",
        "\n",
        "  > The string $xz$ **is accepted**\n",
        "\n",
        "  > The strings $xyz$ and $xyyz$ **are also accepted**\n",
        "\n",
        "  > The string $xyyyz$ **is also accepted**"
      ]
    },
    {
      "cell_type": "markdown",
      "metadata": {
        "id": "Gc10oduit2DC"
      },
      "source": [
        "# Context Free Languages - 5.1\n",
        "* **Examples**:\n",
        "  >$\\{a^nb^n\\}$\n",
        "\n",
        "  >$\\{ww^R\\}$\n",
        "\n",
        "  ---\n",
        "* Context-Free Languages:\n",
        "  * **Context-Free Grammars**\n",
        "  * **Pushdown Automata**"
      ]
    },
    {
      "cell_type": "markdown",
      "metadata": {
        "id": "cVYFASwmu5Y3"
      },
      "source": [
        "## Context-Free Grammars\n",
        "* **Review**:\n",
        "  * **Grammar** is defined by the quadruple $G$\n",
        "    >$ G = (V, T, S, P)$\n",
        "  * In **regular grammars**, there are severe restriction on the production rules $(P)$\n",
        "    > $x \\rightarrow y$\n",
        "      * $x$ can only be **one variable**\n",
        "      * $y$ can contain **at most one variable** and **more restriction on where the variable can occur** for a **right linear grammar** or a **left linear grammar**\n",
        "\n",
        "  * For **context-free grammars**, we **maintain the left side restriction but relax the restriction on the right side**\n",
        "\n",
        "---\n",
        "\n",
        "* **Definition**: \n",
        "  * A Context-Free Grammar is defined as:\n",
        "    > $G = (V,T,S,P)$, </br></br>where</br></br>\n",
        "      $V$ : *Variables*</br>\n",
        "      $T$ : *Terminal symbols*</br>\n",
        "      $S$ : *Start variable*\n",
        "\n",
        "    * Productions, $P$ of the form:\n",
        "      > $A \\rightarrow x$</br></br>, where</br></br>\n",
        "        $A$ : *Variable*</br>\n",
        "        $x$ : *String of variables and terminals*</br>\n",
        "\n",
        "      > $A \\in V$</br>**(and)**</br>$x \\in (V \\cup T)^*$\n",
        "\n",
        "* **Languages generated by the grammar $G$, $L(G)$**\n",
        "> $L(G) = \\{w: S\\Rightarrow^*w, w \\in T^*\\}$\n",
        "  * the **set of all strings that can be generated** from the **start symbol** $S$ using **productions* $P$\n",
        "\n",
        "---\n",
        "\n",
        "* A derivation of some **sentence**, $w$,\n",
        "  > $w \\in L(G)$\n",
        "\n",
        "  is a **sequence**, $S$,\n",
        "  > $S \\Rightarrow w_1 \\Rightarrow w_2 \\Rightarrow w_3 \\cdots \\Rightarrow w_n \\Rightarrow w$\n",
        "\n",
        "* The **strings** \n",
        "  > $S, w_1 , \\cdots , w_n$\n",
        "  \n",
        "  above are **sentential forms** of the **derivation of sentence** $w$\n",
        "\n",
        "* In generating a **sentential form**, a production rule is applied by **replacing the variable in the sentential form by the right side of a production** \n",
        "  * *(with no dependencies on other symbols in the sentential form)*"
      ]
    },
    {
      "cell_type": "markdown",
      "metadata": {
        "id": "vxXUMccT1Ty4"
      },
      "source": [
        "## Context-Free Languages\n",
        "* Definition:\n",
        "  * A **language, $L$, is context-free**</br>*if and only if*</br>there is a **context-free grammar,** $G$, with \n",
        "  >$L = L(G)$ \n",
        "\n",
        "---\n",
        "###Note:\n",
        "* The family of **regular languages is a subset** of the\n",
        "family of **context free languages**\n",
        "  * **Every regular language is a context free language**\n",
        "\n",
        "* **Every regular grammar is a context-free grammar**\n",
        "as the production rules of a regular grammar are\n",
        "more restrictive than the context free grammars\n"
      ]
    },
    {
      "cell_type": "markdown",
      "metadata": {
        "id": "nrjA6GLeRAfG"
      },
      "source": [
        "# Pushdown Automata - 7.1\n",
        "\n",
        "* Recall:\n",
        "  * The family of **Regular languages** is a subset of the family of **context free languages**</br></br>\n",
        "  * **Deterministic Finite State Acceptor, (DFA)** accepts the set of **regular languages**</br></br>\n",
        "  * **Non-deterministic Finite State Acceptor, (NFA)** are equivalent\n",
        "to **Deterministic Finite State Acceptor (DFA)**\n",
        "\n",
        "---\n",
        "## Limitation of FSA\n",
        "\n",
        "* Recall:\n",
        "  * We may need unbounded memory to recognize context-free languages\n",
        "  > i.e. $\\{0^n1^n | n > 0\\} \\Rightarrow$ **requires unbounded counting**\n",
        "  * **Need additional memory** to build an automaton with finitely many states but unbounded memory\n",
        "\n",
        "---\n",
        "## Context Free Language\n",
        "* Unlike the situation with finite automata, **deterministic and non-deterministic pushdown automata differ in the languages they accept**</br></br>\n",
        "* **Non-deterministic Pushdown Automata, (NDPA)** accept precisely the class of context-free languages</br></br>\n",
        "* **Deterministic Pushdown Automata, (DPDA)** just accept a subset of context-free languages\n",
        "\n",
        "---\n",
        "## Pushdown Automaton -- PDA\n",
        "\n",
        "> ### Input String $\\Longrightarrow$ (States $\\Leftrightarrow$ Stack)\n",
        "\n",
        "---\n",
        "## Stack based memory\n",
        "* **Only the top of the stack is visible** at any point in time</br></br>\n",
        "* New symbols may be **pushed** onto the stack, which cover up the old stack top</br></br>\n",
        "* The top symbol of the stack may be **popped**, exposing the symbol below\n"
      ]
    },
    {
      "cell_type": "markdown",
      "metadata": {
        "id": "UwVPYFMwZ_aX"
      },
      "source": [
        "## Formalities for NPDAs\n",
        "* Formal Definition of NPDA:\n",
        "  * **Non-Deterministic Pushdown Automaton (NPDA)** is a 7-tuple\n",
        "  > $M = (Q, \\Sigma, \\Gamma, \\delta, q_0, z, F)$\n",
        "  >> * $Q :$ **States**</br>\n",
        "    * $\\Sigma :$ **Input alphabet**</br>\n",
        "    * $\\Gamma :$ **Stack alphabet**</br>\n",
        "    * $\\delta :$ **Transition function**</br>\n",
        "    * $q_0 :$ **Initial state**</br>\n",
        "    * $z :$ **Stack start symbol**</br>\n",
        "    * $F :$ **Final states**</br>\n",
        "\n",
        "    >> * $\\delta : Q \\times (\\Sigma \\cup \\{ \\lambda\\})  \\times \\Gamma \\rightarrow$ *finite subsets* of</br> $Q \\times \\Gamma^* \\Rightarrow$ **transition function**</br>\n",
        "    * $q_0 \\in Q \\Rightarrow$ **initial state of the control unit**\n",
        "    * $z \\in \\Gamma \\Rightarrow$ **stack start symbol**\n",
        "    * $F \\subseteq Q \\Rightarrow$ **set of final states**\n",
        "\n",
        "  * Note that the **input and stack alphabets may differ** and that **start stack symbol $z$ must be an element of $\\Gamma$**\n"
      ]
    },
    {
      "cell_type": "markdown",
      "metadata": {
        "id": "WWBhI7VXof7i"
      },
      "source": [
        "## Transition function in NPDA\n",
        "* 1st argument from Q is the **current state**\n",
        "* 2nd argument from\n",
        "> $\\Sigma \\cup \\{\\lambda\\}$\n",
        "\n",
        "  is either the **next input symbol or $\\lambda$ for a move that does not consume input**\n",
        "* 3rd argument from $\\Gamma$ is the **current symbol at top of stack**\n",
        "  * The **stack cannot be empty**\n",
        "  * The **stack start symbol represents the empty stack**\n",
        "* The **result value is a finite set of pairs** $(q,w)$ where:\n",
        "  * $q$ is the **new state**\n",
        "  * $w$ is the (possibly empty) **string that replaces the top symbol on the stack**\n",
        "    * The 1st element of $w$ will be the new top of the stack, second element under that, etc\n",
        "\n",
        "---\n",
        "* Each transition:\n",
        "  * is based on the current input symbol and the top of the stack\n",
        "  * optionally pops the top of the stack, and\n",
        "  * optionally pushes new symbols onto the stack\n",
        "* Initially, the stack holds a special symbol $Z$ that indicates the bottom of the stack\n",
        "\n",
        "---\n",
        "* Transition function\n",
        "> $\\delta (q_1, a, b) = \\{(q_2, w)\\}$\n",
        "  \n",
        "  can be represented by a Transition diagram or graph\n",
        "\n",
        "* A transition from $q_1$ of the form\n",
        "> $a, b/w$\n",
        "\n",
        "  means: *If from state $q_1$, the current **input symbol** is $a$ and the current stack symbol is $b$, then follow this transition, pop $b$, push the string $w$ and make a transition to state $q_2$*\n",
        "  * $a,b,w$ and $a,b/w$ are both acceptable notations\n",
        "\n"
      ]
    },
    {
      "cell_type": "code",
      "metadata": {
        "colab": {
          "base_uri": "https://localhost:8080/",
          "height": 368
        },
        "id": "xvvcj6gNQiv-",
        "outputId": "f4f5d10a-0bca-40bd-a0dd-cf23b97a0d3c"
      },
      "source": [
        "from automata.pda.npda import NPDA\n",
        "\n",
        "npda = NPDA(\n",
        "    states={'q0', 'q1', 'q2', 'qf'},\n",
        "    input_symbols={'a', 'b', 'c'},\n",
        "    stack_symbols={'a', 'Z'},\n",
        "\n",
        "    transitions={\n",
        "        'q0': {\n",
        "            'a': {\n",
        "                'a': {('q0', ('a', 'a'))},\n",
        "                'Z': {('q0', ('a', 'Z'))},\n",
        "            },\n",
        "            'b': {\n",
        "                'a': {('q1', 'a')},\n",
        "            },\n",
        "        },\n",
        "        'q1': {\n",
        "            'b': {\n",
        "                'a': {('q1', 'a')}\n",
        "            },\n",
        "            'c': {\n",
        "                'a': {('q2', '')}\n",
        "            }\n",
        "        },\n",
        "        'q2': {\n",
        "            'c': {\n",
        "                'a': {('q2', '')}\n",
        "            },\n",
        "            '': {\n",
        "                'Z': {('qf', '')}\n",
        "            }\n",
        "        }\n",
        "    },\n",
        "    initial_state='q0',\n",
        "    initial_stack_symbol='Z',\n",
        "    final_states={'qf'},\n",
        "    acceptance_mode='final_state'\n",
        ")\n",
        "\n",
        "for sequence in npda.read_input_stepwise('aabbc'):\n",
        "    print(sequence)\n",
        "\n",
        "if npda.accepts_input('aabbc'):\n",
        "    print('accepted')\n",
        "else:\n",
        "    print('rejected')"
      ],
      "execution_count": 3,
      "outputs": [
        {
          "output_type": "error",
          "ename": "ModuleNotFoundError",
          "evalue": "ignored",
          "traceback": [
            "\u001b[0;31m---------------------------------------------------------------------------\u001b[0m",
            "\u001b[0;31mModuleNotFoundError\u001b[0m                       Traceback (most recent call last)",
            "\u001b[0;32m<ipython-input-3-81f32ecdf9b1>\u001b[0m in \u001b[0;36m<module>\u001b[0;34m()\u001b[0m\n\u001b[0;32m----> 1\u001b[0;31m \u001b[0;32mfrom\u001b[0m \u001b[0mautomata\u001b[0m\u001b[0;34m.\u001b[0m\u001b[0mpda\u001b[0m\u001b[0;34m.\u001b[0m\u001b[0mnpda\u001b[0m \u001b[0;32mimport\u001b[0m \u001b[0mNPDA\u001b[0m\u001b[0;34m\u001b[0m\u001b[0;34m\u001b[0m\u001b[0m\n\u001b[0m\u001b[1;32m      2\u001b[0m \u001b[0;34m\u001b[0m\u001b[0m\n\u001b[1;32m      3\u001b[0m npda = NPDA(\n\u001b[1;32m      4\u001b[0m     \u001b[0mstates\u001b[0m\u001b[0;34m=\u001b[0m\u001b[0;34m{\u001b[0m\u001b[0;34m'q0'\u001b[0m\u001b[0;34m,\u001b[0m \u001b[0;34m'q1'\u001b[0m\u001b[0;34m,\u001b[0m \u001b[0;34m'q2'\u001b[0m\u001b[0;34m,\u001b[0m \u001b[0;34m'qf'\u001b[0m\u001b[0;34m}\u001b[0m\u001b[0;34m,\u001b[0m\u001b[0;34m\u001b[0m\u001b[0;34m\u001b[0m\u001b[0m\n\u001b[1;32m      5\u001b[0m     \u001b[0minput_symbols\u001b[0m\u001b[0;34m=\u001b[0m\u001b[0;34m{\u001b[0m\u001b[0;34m'a'\u001b[0m\u001b[0;34m,\u001b[0m \u001b[0;34m'b'\u001b[0m\u001b[0;34m,\u001b[0m \u001b[0;34m'c'\u001b[0m\u001b[0;34m}\u001b[0m\u001b[0;34m,\u001b[0m\u001b[0;34m\u001b[0m\u001b[0;34m\u001b[0m\u001b[0m\n",
            "\u001b[0;31mModuleNotFoundError\u001b[0m: No module named 'automata'",
            "",
            "\u001b[0;31m---------------------------------------------------------------------------\u001b[0;32m\nNOTE: If your import is failing due to a missing package, you can\nmanually install dependencies using either !pip or !apt.\n\nTo view examples of installing some common dependencies, click the\n\"Open Examples\" button below.\n\u001b[0;31m---------------------------------------------------------------------------\u001b[0m\n"
          ]
        }
      ]
    },
    {
      "cell_type": "markdown",
      "metadata": {
        "id": "T_RjLCr3ystu"
      },
      "source": [
        "## Constructing a Pushdown Automata\n",
        "\n",
        "* Constructing a PDA is algorithmic by which you **find a procedure to accept all possible strings that belong to the language** \n",
        "  * PDA can scan strings from left to right and can make use of external stack storage\n",
        "\n",
        "* Develop the transition diagram **starting with the initial state $q_0$, with a stack bottom of $Z$**\n",
        "\n",
        "* **Define all possible actions/transitions** from a state on all possible input symbols and stack top symbols\n",
        "  * read the input or push to stack or pop from stack\n",
        "\n",
        "* **Introduce non-deterministic transitions, if required**\n",
        "\n",
        "* **Complete the transition diagram and specify the final state** so that it accepts all possible strings in the language"
      ]
    }
  ]
}